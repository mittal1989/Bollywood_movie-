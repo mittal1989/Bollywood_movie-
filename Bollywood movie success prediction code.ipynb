{
 "cells": [
  {
   "cell_type": "markdown",
   "metadata": {},
   "source": [
    "## Objectives : Predict the parameters that will affect the success of a movie."
   ]
  },
  {
   "cell_type": "markdown",
   "metadata": {},
   "source": [
    "## 1. Web Scrapping of bollywood movie data"
   ]
  },
  {
   "cell_type": "markdown",
   "metadata": {},
   "source": [
    "***komparify.com*** has the large database of bollywood movies, for date ranges from year 1930 to 2018 released on the big screens (not on online plateforms). \n",
    "\n",
    "I have used the **BeautifulSoup** package of python to extract the bollywood movies data of **30 years period between 1989 to 2019.**"
   ]
  },
  {
   "cell_type": "code",
   "execution_count": null,
   "metadata": {},
   "outputs": [],
   "source": [
    "# Importing the required packages\n",
    "\n",
    "from bs4 import BeautifulSoup\n",
    "import requests\n",
    "import pandas as pd\n",
    "import numpy as np\n",
    "import matplotlib.pyplot as plt\n",
    "import seaborn as sns\n",
    "import datetime\n",
    "import warnings\n",
    "from scipy import stats \n",
    "\n",
    "warnings.filterwarnings('ignore')\n"
   ]
  },
  {
   "cell_type": "code",
   "execution_count": 2,
   "metadata": {},
   "outputs": [],
   "source": [
    "# Komparify.com URL for period 1989 to 2019 first 3000 movies data\n",
    "url = 'https://www.komparify.com/entertainment/movies?languagelist=hindi&contenttypelist=movie&minyear=1989&maxyear=2019&sortorder=kscore&elements=3000'\n",
    "headers = {'User-Agent': 'Chrome/74.0.3729.169'}\n",
    "response = requests.get(url, headers=headers ,timeout = 600000)\n",
    "soup = BeautifulSoup(response.text,'lxml')"
   ]
  },
  {
   "cell_type": "code",
   "execution_count": null,
   "metadata": {},
   "outputs": [],
   "source": [
    "# Extracting the Urls of all the available movies (around 3000) from carld holder div\n",
    "pages = soup.find('div',class_='card-holder')\n",
    "links = pages.find_all('a',class_='card-lt')\n",
    "urls = []\n",
    "for link in links:\n",
    "        x = link.get('href')\n",
    "        urls.append(x)\n",
    "print(urls)\n",
    "len(urls)"
   ]
  },
  {
   "cell_type": "markdown",
   "metadata": {},
   "source": [
    "#### <font color='red'> Below for loop takes significant time to run as its extracting the data for last set of movies. Please run it cautiously </font>"
   ]
  },
  {
   "cell_type": "code",
   "execution_count": null,
   "metadata": {},
   "outputs": [],
   "source": [
    "# For loop of each movie url to extract the Box office collection, movie certificate, Run time, Budget, Genres,\n",
    "#    Producer, Director, Lead actors, \n",
    "\n",
    "rows = []\n",
    "url = 'https://www.komparify.com/'\n",
    "for num in range(0,len(urls)):\n",
    "    try:        \n",
    "        newUrl = url + urls[num]\n",
    "        Movie = urls[num].split('/')[3]\n",
    "        response = requests.get(newUrl)\n",
    "        soup = BeautifulSoup(response.text,'lxml')\n",
    "        items = soup.find_all('div',class_='rate_score ratall')\n",
    "        if (items != []):\n",
    "            Box_office = items[0].find('span',class_=\"r_score\").text.strip('\\n').split('\\n')[1]\n",
    "        \n",
    "        items = soup.find_all('div',class_='cnt-det')\n",
    "        items1 = items[4].find_all('div',class_='tinfo')\n",
    "        Certificate = \"\" ; Release_Date = \"\" ; Run_Time= \"\" ; Budget = \"\"; Genre = \"\"\n",
    "        for i in items1:\n",
    "            str = i.text.strip('\\n')\n",
    "            if (Certificate == \"\"):\n",
    "                Certificate = str.split('\\n')[1] if (str.find('Certificate') != -1) else \"\"\n",
    "            if (Release_Date == \"\"):\n",
    "                Release_Date = str.split('\\n')[1] if (str.find('Release Date') != -1) else \"\"\n",
    "            if (Run_Time == \"\"):\n",
    "                Run_Time = str.split('\\n')[1] if (str.find('Run Time') != -1) else \"\"\n",
    "            if (Budget == \"\"):\n",
    "                Budget = str.split('\\n')[2] if (str.find('Budget') != -1) else \"\"\n",
    "            if (Genre == \"\"):\n",
    "                Genre = str.strip('\\n').replace('\\n', \"\").replace('Genre', \"\") if (str.find('Genre') != -1) else \"\"\n",
    "                    \n",
    "        items = soup.find_all('div',class_='dir_cc ewit')\n",
    "        Producer = \"\";    Director = \"\";    Lead_Actor1 = \"\";Lead_Actor2 = \"\";Lead_Actor3 = \"\"\n",
    "        if (items != []):\n",
    "            for i in items:\n",
    "                str = i.find('span',class_='name').text\n",
    "                if (Director == \"\"):\n",
    "                    Director = str.strip('\\n').split('\\n')[0] if (str.find('Director') != -1) else \"\"\n",
    "                if (Producer == \"\"):\n",
    "                    Producer = str.strip('\\n').split('\\n')[0] if (str.find('Producer') != -1) else \"\"\n",
    "                if (Director != \"\"):\n",
    "                    Lead_Actor1 = items[1].find('span',class_='name').text.strip('\\n').split('\\n')[0]\n",
    "                    if (len(items) > 2):\n",
    "                        Lead_Actor2 = items[2].find('span',class_='name').text.strip('\\n').split('\\n')[0]\n",
    "                    if (len(items) > 3):\n",
    "                        Lead_Actor3 = items[3].find('span',class_='name').text.strip('\\n').split('\\n')[0]\n",
    "                else:\n",
    "                    Lead_Actor1 = items[0].find('span',class_='name').text.strip('\\n').split('\\n')[0]                \n",
    "                    if (len(items) > 1):\n",
    "                        Lead_Actor2 = items[1].find('span',class_='name').text.strip('\\n').split('\\n')[0]                \n",
    "                    if (len(items) > 2):\n",
    "                        Lead_Actor3 = items[2].find('span',class_='name').text.strip('\\n').split('\\n')[0]                \n",
    "                    \n",
    "        rows.append([Movie,Box_office,Certificate,Release_Date,Run_Time,Budget,Genre,\n",
    "                         Director,Producer,Lead_Actor1,Lead_Actor2,Lead_Actor3])\n",
    "    except:\n",
    "        pass\n",
    "rows[1:10]"
   ]
  },
  {
   "cell_type": "code",
   "execution_count": null,
   "metadata": {},
   "outputs": [],
   "source": [
    "# Extracted around 860 movies records, Creating and saving the dataframe into local space\n",
    "Movie_df = pd.DataFrame(rows, columns=[\"Movie\", \"Box_office\",\"Certificate\",\n",
    "                                       \"Release_Data\",\"Run_time\",\"Budget\",\n",
    "                                       \"Genre\",\"Director\",\"Producer\",\"Lead_Actor1\",\"Lead_Actor2\",\"Lead_Actor3\"])\n",
    "Movie_df.to_csv(\"~\\\\Analysis\\\\data5.csv\", index = False)"
   ]
  },
  {
   "cell_type": "markdown",
   "metadata": {},
   "source": [
    "#### <font color='red'> Please update the address from the .csv movie data file shared in the email </font>"
   ]
  },
  {
   "cell_type": "markdown",
   "metadata": {},
   "source": [
    "I have removed those record where box office collection or budget data was not present. Out of 3000 records only 860 records has both features available"
   ]
  },
  {
   "cell_type": "code",
   "execution_count": 5,
   "metadata": {},
   "outputs": [
    {
     "data": {
      "text/html": [
       "<div>\n",
       "<style scoped>\n",
       "    .dataframe tbody tr th:only-of-type {\n",
       "        vertical-align: middle;\n",
       "    }\n",
       "\n",
       "    .dataframe tbody tr th {\n",
       "        vertical-align: top;\n",
       "    }\n",
       "\n",
       "    .dataframe thead th {\n",
       "        text-align: right;\n",
       "    }\n",
       "</style>\n",
       "<table border=\"1\" class=\"dataframe\">\n",
       "  <thead>\n",
       "    <tr style=\"text-align: right;\">\n",
       "      <th></th>\n",
       "      <th>Movie</th>\n",
       "      <th>Box_office_crores</th>\n",
       "      <th>Budget_crores</th>\n",
       "      <th>Certificate</th>\n",
       "      <th>Release_Date</th>\n",
       "      <th>Run_time_mins</th>\n",
       "      <th>Director</th>\n",
       "      <th>Producer</th>\n",
       "      <th>Lead_Actor1</th>\n",
       "      <th>Lead_Actor2</th>\n",
       "      <th>Lead_Actor3</th>\n",
       "      <th>Genre1</th>\n",
       "      <th>Genre2</th>\n",
       "      <th>Genre3</th>\n",
       "    </tr>\n",
       "  </thead>\n",
       "  <tbody>\n",
       "    <tr>\n",
       "      <th>0</th>\n",
       "      <td>sanju</td>\n",
       "      <td>334.0</td>\n",
       "      <td>96.0</td>\n",
       "      <td>U/A</td>\n",
       "      <td>12-Apr-19</td>\n",
       "      <td>161</td>\n",
       "      <td>Rajkumar Hirani</td>\n",
       "      <td>Rajkumar Hirani</td>\n",
       "      <td>Anushka Sharma</td>\n",
       "      <td>Sonam Kapoor</td>\n",
       "      <td>Ranbir Kapoor</td>\n",
       "      <td>Biography</td>\n",
       "      <td>Drama</td>\n",
       "      <td>NaN</td>\n",
       "    </tr>\n",
       "    <tr>\n",
       "      <th>1</th>\n",
       "      <td>3-idiots</td>\n",
       "      <td>201.0</td>\n",
       "      <td>77.0</td>\n",
       "      <td>U/A</td>\n",
       "      <td>24-Dec-09</td>\n",
       "      <td>171</td>\n",
       "      <td>Rajkumar Hirani</td>\n",
       "      <td>Vidhu Vinod Chopra</td>\n",
       "      <td>Aamir Khan</td>\n",
       "      <td>R Madhavan</td>\n",
       "      <td>Kareena Kapoor Khan</td>\n",
       "      <td>Adventure</td>\n",
       "      <td>Comedy</td>\n",
       "      <td>Drama</td>\n",
       "    </tr>\n",
       "    <tr>\n",
       "      <th>2</th>\n",
       "      <td>black-friday</td>\n",
       "      <td>4.0</td>\n",
       "      <td>4.0</td>\n",
       "      <td>U/A</td>\n",
       "      <td>9-Feb-07</td>\n",
       "      <td>143</td>\n",
       "      <td>Anurag Kashyap</td>\n",
       "      <td>Arindam Mitra</td>\n",
       "      <td>Kay Kay Menon</td>\n",
       "      <td>Nawazuddin Siddiqui</td>\n",
       "      <td>Kishore Kadam</td>\n",
       "      <td>Action</td>\n",
       "      <td>Crime</td>\n",
       "      <td>Drama</td>\n",
       "    </tr>\n",
       "    <tr>\n",
       "      <th>3</th>\n",
       "      <td>andhadhun</td>\n",
       "      <td>73.0</td>\n",
       "      <td>32.0</td>\n",
       "      <td>U/A</td>\n",
       "      <td>5-Oct-18</td>\n",
       "      <td>139</td>\n",
       "      <td>Sriram Raghavan</td>\n",
       "      <td>Sanjay Routray</td>\n",
       "      <td>Tabu Hashmi</td>\n",
       "      <td>Ayushmann Khurrana</td>\n",
       "      <td>Radhika Apte</td>\n",
       "      <td>Comedy</td>\n",
       "      <td>Romance</td>\n",
       "      <td>Thriller</td>\n",
       "    </tr>\n",
       "    <tr>\n",
       "      <th>4</th>\n",
       "      <td>rang-de-basanti</td>\n",
       "      <td>53.0</td>\n",
       "      <td>28.0</td>\n",
       "      <td>U/A</td>\n",
       "      <td>26-Jan-06</td>\n",
       "      <td>171</td>\n",
       "      <td>Rakeysh Omprakash Mehra</td>\n",
       "      <td>David Reid</td>\n",
       "      <td>Aamir Khan</td>\n",
       "      <td>Siddharth Narayan</td>\n",
       "      <td>R Madhavan</td>\n",
       "      <td>Comedy</td>\n",
       "      <td>Drama</td>\n",
       "      <td>History</td>\n",
       "    </tr>\n",
       "  </tbody>\n",
       "</table>\n",
       "</div>"
      ],
      "text/plain": [
       "             Movie  Box_office_crores  Budget_crores Certificate Release_Date  \\\n",
       "0            sanju              334.0           96.0         U/A    12-Apr-19   \n",
       "1         3-idiots              201.0           77.0         U/A    24-Dec-09   \n",
       "2     black-friday                4.0            4.0         U/A     9-Feb-07   \n",
       "3        andhadhun               73.0           32.0         U/A     5-Oct-18   \n",
       "4  rang-de-basanti               53.0           28.0         U/A    26-Jan-06   \n",
       "\n",
       "   Run_time_mins                 Director            Producer     Lead_Actor1  \\\n",
       "0            161          Rajkumar Hirani     Rajkumar Hirani  Anushka Sharma   \n",
       "1            171          Rajkumar Hirani  Vidhu Vinod Chopra      Aamir Khan   \n",
       "2            143           Anurag Kashyap       Arindam Mitra   Kay Kay Menon   \n",
       "3            139          Sriram Raghavan      Sanjay Routray     Tabu Hashmi   \n",
       "4            171  Rakeysh Omprakash Mehra          David Reid      Aamir Khan   \n",
       "\n",
       "           Lead_Actor2          Lead_Actor3     Genre1   Genre2    Genre3  \n",
       "0         Sonam Kapoor        Ranbir Kapoor  Biography    Drama       NaN  \n",
       "1           R Madhavan  Kareena Kapoor Khan  Adventure   Comedy     Drama  \n",
       "2  Nawazuddin Siddiqui        Kishore Kadam     Action    Crime     Drama  \n",
       "3   Ayushmann Khurrana         Radhika Apte     Comedy  Romance  Thriller  \n",
       "4    Siddharth Narayan           R Madhavan     Comedy    Drama   History  "
      ]
     },
     "execution_count": 5,
     "metadata": {},
     "output_type": "execute_result"
    }
   ],
   "source": [
    "# After doing the basic data cleaning and sanity check imported the data again to Jupyter notebook\n",
    "Movie_df = pd.read_csv(\"~Analysis\\\\Movie_Data_Python.csv\")\n",
    "Movie_df.head()"
   ]
  },
  {
   "cell_type": "code",
   "execution_count": 6,
   "metadata": {},
   "outputs": [
    {
     "data": {
      "text/plain": [
       "(861, 14)"
      ]
     },
     "execution_count": 6,
     "metadata": {},
     "output_type": "execute_result"
    }
   ],
   "source": [
    "# We have 861 movies records with 14 features \n",
    "Movie_df.shape"
   ]
  },
  {
   "cell_type": "code",
   "execution_count": 7,
   "metadata": {},
   "outputs": [],
   "source": [
    "# Formating the Release date and calculating the profit\n",
    "Movie_df['Release_Date']= pd.to_datetime(Movie_df['Release_Date'])\n",
    "Movie_df['Release_Month'] = Movie_df['Release_Date'].dt.strftime('%b')\n",
    "Movie_df['Release_Year'] = Movie_df['Release_Date'].dt.year\n",
    "\n",
    "Movie_df['Profit'] = Movie_df['Box_office_crores'] - Movie_df['Budget_crores']"
   ]
  },
  {
   "cell_type": "code",
   "execution_count": 8,
   "metadata": {},
   "outputs": [
    {
     "data": {
      "text/plain": [
       "Movie                        object\n",
       "Box_office_crores           float64\n",
       "Budget_crores               float64\n",
       "Certificate                  object\n",
       "Release_Date         datetime64[ns]\n",
       "Run_time_mins                 int64\n",
       "Director                     object\n",
       "Producer                     object\n",
       "Lead_Actor1                  object\n",
       "Lead_Actor2                  object\n",
       "Lead_Actor3                  object\n",
       "Genre1                       object\n",
       "Genre2                       object\n",
       "Genre3                       object\n",
       "Release_Month                object\n",
       "Release_Year                  int64\n",
       "Profit                      float64\n",
       "dtype: object"
      ]
     },
     "execution_count": 8,
     "metadata": {},
     "output_type": "execute_result"
    }
   ],
   "source": [
    "Movie_df.dtypes"
   ]
  },
  {
   "cell_type": "markdown",
   "metadata": {},
   "source": [
    "## 2. Data mining"
   ]
  },
  {
   "cell_type": "markdown",
   "metadata": {},
   "source": [
    "***2.1. Distribution plot of Box office collection and budget using seaborn distplot.***"
   ]
  },
  {
   "cell_type": "code",
   "execution_count": 9,
   "metadata": {},
   "outputs": [
    {
     "data": {
      "image/png": "[encoded data removed]",
      "text/plain": [
       "<Figure size 1152x432 with 2 Axes>"
      ]
     },
     "metadata": {
      "needs_background": "light"
     },
     "output_type": "display_data"
    }
   ],
   "source": [
    "fig, ax =plt.subplots(1,2,figsize = (16, 6))\n",
    "sns.distplot(Movie_df['Box_office_crores'],ax=ax[0])\n",
    "sns.distplot(Movie_df['Budget_crores'],color = 'orange',ax=ax[1])\n",
    "fig.show()\n"
   ]
  },
  {
   "cell_type": "markdown",
   "metadata": {},
   "source": [
    "We can see that both box office collection and buget data is very skewed and therefore it is difficult to draw a conclusion from this graph. we need to normalize this data. Therefore we will be normalizing it using log transformation."
   ]
  },
  {
   "cell_type": "code",
   "execution_count": 10,
   "metadata": {},
   "outputs": [],
   "source": [
    "#creating log transformation for reveune\n",
    "Movie_df['Log_Box_office_crores'] = np.log1p(Movie_df['Box_office_crores']) #we are not using log0 to avoid & and null value as there might be 0 value\n",
    "\n",
    "#creating log transformation for budget\n",
    "Movie_df['Log_Budget_crores'] = np.log1p(Movie_df['Budget_crores']) #we are not using log0 to avoid & and null value as there might be 0 value"
   ]
  },
  {
   "cell_type": "code",
   "execution_count": 11,
   "metadata": {},
   "outputs": [
    {
     "data": {
      "image/png": "[encoded data removed]",
      "text/plain": [
       "<Figure size 1152x432 with 2 Axes>"
      ]
     },
     "metadata": {
      "needs_background": "light"
     },
     "output_type": "display_data"
    }
   ],
   "source": [
    "fig, ax =plt.subplots(1,2,figsize = (16, 6))\n",
    "sns.distplot(Movie_df['Log_Box_office_crores'],ax=ax[0])\n",
    "sns.distplot(Movie_df['Log_Budget_crores'],color = 'orange',ax=ax[1])\n",
    "fig.show()\n"
   ]
  },
  {
   "cell_type": "markdown",
   "metadata": {},
   "source": [
    "<center><u> Log transformation method made data normally distributed which has less skewness and kurtosis.</u></center>"
   ]
  },
  {
   "cell_type": "markdown",
   "metadata": {},
   "source": [
    "***2.2. Relationship between Film Revenue and Budget.***"
   ]
  },
  {
   "cell_type": "code",
   "execution_count": 12,
   "metadata": {},
   "outputs": [
    {
     "data": {
      "image/png": "[encoded data removed]",
      "text/plain": [
       "<Figure size 1152x576 with 2 Axes>"
      ]
     },
     "metadata": {
      "needs_background": "light"
     },
     "output_type": "display_data"
    }
   ],
   "source": [
    "#let's create scatter plot\n",
    "plt.figure(figsize=(16, 8))\n",
    "plt.subplot(1, 2, 1)\n",
    "plt.scatter(Movie_df['Budget_crores'], Movie_df['Box_office_crores'])\n",
    "plt.title('Box office collection vs Budget (Crs) fig(1)');\n",
    "plt.subplot(1, 2, 2)\n",
    "plt.scatter(Movie_df['Log_Budget_crores'], Movie_df['Log_Box_office_crores'])\n",
    "plt.title('Log Box_office_crores vs Log Budget_crores fig(2)')\n",
    "plt.show()"
   ]
  },
  {
   "cell_type": "markdown",
   "metadata": {},
   "source": [
    "Fig(1, left side): we can see that they are a somewhat correlation between budget and revenue, but we are not clear.\n",
    "\n",
    "Fig(2, right side): however this plot indicates that there is a strong correlation between both variables that are log transformation of revenue and log transformation of budget."
   ]
  },
  {
   "cell_type": "code",
   "execution_count": 13,
   "metadata": {},
   "outputs": [
    {
     "data": {
      "text/plain": [
       "0.25     8.0\n",
       "0.50    19.0\n",
       "0.75    38.0\n",
       "Name: Budget_crores, dtype: float64"
      ]
     },
     "execution_count": 13,
     "metadata": {},
     "output_type": "execute_result"
    }
   ],
   "source": [
    "Movie_df['Budget_crores'].quantile([0.25,0.5, 0.75], interpolation='midpoint')"
   ]
  },
  {
   "cell_type": "code",
   "execution_count": 14,
   "metadata": {},
   "outputs": [
    {
     "data": {
      "text/plain": [
       "0.25     2.0\n",
       "0.50    14.0\n",
       "0.75    42.0\n",
       "Name: Box_office_crores, dtype: float64"
      ]
     },
     "execution_count": 14,
     "metadata": {},
     "output_type": "execute_result"
    }
   ],
   "source": [
    "Movie_df['Box_office_crores'].quantile([0.25,0.5, 0.75], interpolation='midpoint')"
   ]
  },
  {
   "cell_type": "markdown",
   "metadata": {},
   "source": [
    "<u>Converting the budget into 7 categories ranges </u>"
   ]
  },
  {
   "cell_type": "code",
   "execution_count": 15,
   "metadata": {},
   "outputs": [
    {
     "data": {
      "text/plain": [
       "5-10      183\n",
       "30-50     144\n",
       "1-5       132\n",
       "< 1       124\n",
       "10-20     122\n",
       "50-100     92\n",
       "> 100      41\n",
       "Name: Budget_crores_bins, dtype: int64"
      ]
     },
     "execution_count": 15,
     "metadata": {},
     "output_type": "execute_result"
    }
   ],
   "source": [
    "bins = [1, 5, 10, 20, 30, 50, 100,1000]\n",
    "names = ['< 1', '1-5', '5-10', '10-20', '30-50','50-100','> 100']\n",
    "\n",
    "Movie_df['Budget_crores_bins'] = pd.cut(Movie_df['Budget_crores'], bins, labels=names)\n",
    "Movie_df['Budget_crores_bins'].value_counts()"
   ]
  },
  {
   "cell_type": "markdown",
   "metadata": {},
   "source": [
    "***2.3. Relationship between the movie certificate and box office collection.***"
   ]
  },
  {
   "cell_type": "code",
   "execution_count": 16,
   "metadata": {},
   "outputs": [
    {
     "data": {
      "image/png": "[encoded data removed]",
      "text/plain": [
       "<Figure size 360x360 with 1 Axes>"
      ]
     },
     "metadata": {
      "needs_background": "light"
     },
     "output_type": "display_data"
    }
   ],
   "source": [
    "sns.catplot(x='Certificate', y='Box_office_crores',kind = \"boxen\", data=Movie_df);"
   ]
  },
  {
   "cell_type": "markdown",
   "metadata": {},
   "source": [
    "<u> Most of the movies belongs to U/A certifcation category  </u>"
   ]
  },
  {
   "cell_type": "markdown",
   "metadata": {},
   "source": [
    "***2.4. Relationship between release month and box office collection***"
   ]
  },
  {
   "cell_type": "code",
   "execution_count": 17,
   "metadata": {},
   "outputs": [
    {
     "data": {
      "image/png": "[encoded data removed]",
      "text/plain": [
       "<Figure size 360x360 with 1 Axes>"
      ]
     },
     "metadata": {
      "needs_background": "light"
     },
     "output_type": "display_data"
    }
   ],
   "source": [
    "sns.catplot(x='Release_Month', y='Box_office_crores', data=Movie_df);"
   ]
  },
  {
   "cell_type": "code",
   "execution_count": 18,
   "metadata": {},
   "outputs": [
    {
     "data": {
      "text/plain": [
       "2010-2015    322\n",
       "2015-2019    223\n",
       "2005-2010    220\n",
       "2000-2005     72\n",
       "1995-2000     13\n",
       "< 1995         9\n",
       "Name: Release_Year_bins, dtype: int64"
      ]
     },
     "execution_count": 18,
     "metadata": {},
     "output_type": "execute_result"
    }
   ],
   "source": [
    "bins = [1989, 1995, 2000, 2005, 2010, 2015,2019]\n",
    "names = ['< 1995', '1995-2000', '2000-2005', '2005-2010', '2010-2015','2015-2019']\n",
    "Movie_df['Release_Year_bins'] = pd.cut(Movie_df['Release_Year'], bins, labels=names)\n",
    "Movie_df['Release_Year_bins'].value_counts()"
   ]
  },
  {
   "cell_type": "code",
   "execution_count": 19,
   "metadata": {},
   "outputs": [
    {
     "data": {
      "image/png": "[encoded data removed]",
      "text/plain": [
       "<Figure size 432x288 with 1 Axes>"
      ]
     },
     "metadata": {
      "needs_background": "light"
     },
     "output_type": "display_data"
    }
   ],
   "source": [
    "ax = sns.countplot(x=\"Release_Year_bins\", data=Movie_df)\n"
   ]
  },
  {
   "cell_type": "markdown",
   "metadata": {},
   "source": [
    "<u> Before Year 2000 only 22 movies available in the data. Around 90% movies in the data released after year 2005. </u>"
   ]
  },
  {
   "cell_type": "markdown",
   "metadata": {},
   "source": [
    "***2.5. Top directors in terms of Box office collection***\n"
   ]
  },
  {
   "cell_type": "code",
   "execution_count": 20,
   "metadata": {},
   "outputs": [
    {
     "data": {
      "text/html": [
       "<div>\n",
       "<style scoped>\n",
       "    .dataframe tbody tr th:only-of-type {\n",
       "        vertical-align: middle;\n",
       "    }\n",
       "\n",
       "    .dataframe tbody tr th {\n",
       "        vertical-align: top;\n",
       "    }\n",
       "\n",
       "    .dataframe thead th {\n",
       "        text-align: right;\n",
       "    }\n",
       "</style>\n",
       "<table border=\"1\" class=\"dataframe\">\n",
       "  <thead>\n",
       "    <tr style=\"text-align: right;\">\n",
       "      <th></th>\n",
       "      <th>Director</th>\n",
       "      <th>Box_office_crores</th>\n",
       "      <th>Number_of_Movies</th>\n",
       "      <th>per_movie_collection</th>\n",
       "    </tr>\n",
       "  </thead>\n",
       "  <tbody>\n",
       "    <tr>\n",
       "      <th>329</th>\n",
       "      <td>Rohit Shetty</td>\n",
       "      <td>1307.0</td>\n",
       "      <td>10</td>\n",
       "      <td>130.700000</td>\n",
       "    </tr>\n",
       "    <tr>\n",
       "      <th>40</th>\n",
       "      <td>Ali Abbas Zafar</td>\n",
       "      <td>966.0</td>\n",
       "      <td>5</td>\n",
       "      <td>193.200000</td>\n",
       "    </tr>\n",
       "    <tr>\n",
       "      <th>304</th>\n",
       "      <td>Rajkumar Hirani</td>\n",
       "      <td>946.0</td>\n",
       "      <td>4</td>\n",
       "      <td>236.500000</td>\n",
       "    </tr>\n",
       "    <tr>\n",
       "      <th>175</th>\n",
       "      <td>Kabir Khan</td>\n",
       "      <td>869.0</td>\n",
       "      <td>7</td>\n",
       "      <td>124.142857</td>\n",
       "    </tr>\n",
       "    <tr>\n",
       "      <th>358</th>\n",
       "      <td>Sanjay Leela Bhansali</td>\n",
       "      <td>841.0</td>\n",
       "      <td>5</td>\n",
       "      <td>168.200000</td>\n",
       "    </tr>\n",
       "  </tbody>\n",
       "</table>\n",
       "</div>"
      ],
      "text/plain": [
       "                  Director  Box_office_crores  Number_of_Movies  \\\n",
       "329           Rohit Shetty             1307.0                10   \n",
       "40         Ali Abbas Zafar              966.0                 5   \n",
       "304        Rajkumar Hirani              946.0                 4   \n",
       "175             Kabir Khan              869.0                 7   \n",
       "358  Sanjay Leela Bhansali              841.0                 5   \n",
       "\n",
       "     per_movie_collection  \n",
       "329            130.700000  \n",
       "40             193.200000  \n",
       "304            236.500000  \n",
       "175            124.142857  \n",
       "358            168.200000  "
      ]
     },
     "execution_count": 20,
     "metadata": {},
     "output_type": "execute_result"
    }
   ],
   "source": [
    "grouped_Directors =  Movie_df.groupby('Director')['Box_office_crores'].agg({'Box_office_crores':'sum','Number_of_Movies':'count'}).reset_index()\n",
    "grouped_Directors['per_movie_collection'] = grouped_Directors['Box_office_crores']/ grouped_Directors['Number_of_Movies']\n",
    "Top_Directors = grouped_Directors.sort_values('Box_office_crores', ascending=False).head(5)\n",
    "Top_Directors"
   ]
  },
  {
   "cell_type": "code",
   "execution_count": 21,
   "metadata": {},
   "outputs": [
    {
     "data": {
      "image/png": "[encoded data removed]",
      "text/plain": [
       "<Figure size 1440x432 with 2 Axes>"
      ]
     },
     "metadata": {
      "needs_background": "light"
     },
     "output_type": "display_data"
    }
   ],
   "source": [
    "#we will be using blox pot\n",
    "plt.figure(figsize=(20, 6))\n",
    "plt.subplot(1, 2, 1)\n",
    "splot = sns.barplot(x='Director', y='Box_office_crores', data=Top_Directors);\n",
    "for p in splot.patches:\n",
    "    splot.annotate(format(p.get_height(), '.1f'), \n",
    "                   (p.get_x() + p.get_width() / 2., p.get_height()), \n",
    "                   ha = 'center', va = 'center', \n",
    "                   xytext = (0, 9), \n",
    "                   textcoords = 'offset points')\n",
    "plt.title('Top directors in terms of Box office collection');\n",
    "plt.xlabel(\"Directors\", size=14)\n",
    "plt.ylabel(\"Box office collections crores\", size=14)\n",
    "\n",
    "plt.subplot(1, 2, 2)\n",
    "splot = sns.barplot(x='Director', y='Number_of_Movies', data=Top_Directors);\n",
    "for p in splot.patches:\n",
    "    splot.annotate(format(p.get_height(), '.0f'), \n",
    "                   (p.get_x() + p.get_width() / 2., p.get_height()), \n",
    "                   ha = 'center', va = 'center', \n",
    "                   xytext = (0, 9), \n",
    "                   textcoords = 'offset points')\n",
    "plt.title('Top directors number of movies');\n",
    "plt.xlabel(\"Directors\", size=14)\n",
    "plt.ylabel(\"Number of Movies\", size=14)\n",
    "plt.show()"
   ]
  },
  {
   "cell_type": "markdown",
   "metadata": {},
   "source": [
    "<u><center> Rohit Shetty, Ali Abbas Zafar, Rajkumar Hirani, Kabir Khan, Sanjay Leela Bhansali are successfull directors in bollywood </center></u>"
   ]
  },
  {
   "cell_type": "markdown",
   "metadata": {},
   "source": [
    "***2.6.Top Producers in terms of Box office collection***"
   ]
  },
  {
   "cell_type": "code",
   "execution_count": 22,
   "metadata": {},
   "outputs": [
    {
     "data": {
      "text/html": [
       "<div>\n",
       "<style scoped>\n",
       "    .dataframe tbody tr th:only-of-type {\n",
       "        vertical-align: middle;\n",
       "    }\n",
       "\n",
       "    .dataframe tbody tr th {\n",
       "        vertical-align: top;\n",
       "    }\n",
       "\n",
       "    .dataframe thead th {\n",
       "        text-align: right;\n",
       "    }\n",
       "</style>\n",
       "<table border=\"1\" class=\"dataframe\">\n",
       "  <thead>\n",
       "    <tr style=\"text-align: right;\">\n",
       "      <th></th>\n",
       "      <th>Producer</th>\n",
       "      <th>Box_office_crores</th>\n",
       "      <th>Number_of_Movies</th>\n",
       "      <th>Per_movie_collection</th>\n",
       "    </tr>\n",
       "  </thead>\n",
       "  <tbody>\n",
       "    <tr>\n",
       "      <th>11</th>\n",
       "      <td>Aditya Chopra</td>\n",
       "      <td>3361.35</td>\n",
       "      <td>45</td>\n",
       "      <td>74.7</td>\n",
       "    </tr>\n",
       "    <tr>\n",
       "      <th>69</th>\n",
       "      <td>Bhushan Kumar</td>\n",
       "      <td>2066.00</td>\n",
       "      <td>47</td>\n",
       "      <td>44.0</td>\n",
       "    </tr>\n",
       "    <tr>\n",
       "      <th>244</th>\n",
       "      <td>Sajid Nadiadwala</td>\n",
       "      <td>1563.00</td>\n",
       "      <td>19</td>\n",
       "      <td>82.3</td>\n",
       "    </tr>\n",
       "    <tr>\n",
       "      <th>131</th>\n",
       "      <td>Karan Johar</td>\n",
       "      <td>1260.00</td>\n",
       "      <td>20</td>\n",
       "      <td>63.0</td>\n",
       "    </tr>\n",
       "    <tr>\n",
       "      <th>289</th>\n",
       "      <td>Sunil Lulla</td>\n",
       "      <td>959.00</td>\n",
       "      <td>19</td>\n",
       "      <td>50.5</td>\n",
       "    </tr>\n",
       "  </tbody>\n",
       "</table>\n",
       "</div>"
      ],
      "text/plain": [
       "             Producer  Box_office_crores  Number_of_Movies  \\\n",
       "11      Aditya Chopra            3361.35                45   \n",
       "69      Bhushan Kumar            2066.00                47   \n",
       "244  Sajid Nadiadwala            1563.00                19   \n",
       "131       Karan Johar            1260.00                20   \n",
       "289       Sunil Lulla             959.00                19   \n",
       "\n",
       "     Per_movie_collection  \n",
       "11                   74.7  \n",
       "69                   44.0  \n",
       "244                  82.3  \n",
       "131                  63.0  \n",
       "289                  50.5  "
      ]
     },
     "execution_count": 22,
     "metadata": {},
     "output_type": "execute_result"
    }
   ],
   "source": [
    "grouped_Producer =  Movie_df.groupby('Producer')['Box_office_crores'].agg({'Box_office_crores':'sum','Number_of_Movies':'count'}).reset_index()\n",
    "Top_Producer = grouped_Producer.sort_values('Box_office_crores', ascending=False).head(5)\n",
    "Top_Producer['Per_movie_collection'] = round(Top_Producer['Box_office_crores']/Top_Producer['Number_of_Movies'],1)\n",
    "Top_Producer = Top_Producer[Top_Producer['Number_of_Movies']>5]\n",
    "Top_Producer"
   ]
  },
  {
   "cell_type": "code",
   "execution_count": 23,
   "metadata": {},
   "outputs": [
    {
     "data": {
      "image/png": "[encoded data removed]",
      "text/plain": [
       "<Figure size 1440x432 with 2 Axes>"
      ]
     },
     "metadata": {
      "needs_background": "light"
     },
     "output_type": "display_data"
    }
   ],
   "source": [
    "#we will be using blox pot\n",
    "plt.figure(figsize=(20, 6))\n",
    "plt.subplot(1, 2, 1)\n",
    "splot = sns.barplot(x='Producer', y='Box_office_crores', data=Top_Producer);\n",
    "for p in splot.patches:\n",
    "    splot.annotate(format(p.get_height(), '.1f'), \n",
    "                   (p.get_x() + p.get_width() / 2., p.get_height()), \n",
    "                   ha = 'center', va = 'center', \n",
    "                   xytext = (0, 9), \n",
    "                   textcoords = 'offset points')\n",
    "plt.title('Top Producer in terms of Box office collection');\n",
    "plt.xlabel(\"Producers\", size=14)\n",
    "plt.ylabel(\"Box office collections crores\", size=14)\n",
    "\n",
    "plt.subplot(1, 2, 2)\n",
    "splot = sns.barplot(x='Producer', y='Number_of_Movies', data=Top_Producer);\n",
    "for p in splot.patches:\n",
    "    splot.annotate(format(p.get_height(), '.0f'), \n",
    "                   (p.get_x() + p.get_width() / 2., p.get_height()), \n",
    "                   ha = 'center', va = 'center', \n",
    "                   xytext = (0, 9), \n",
    "                   textcoords = 'offset points')\n",
    "plt.title('Top Producer number of movies');\n",
    "plt.xlabel(\"Producers\", size=14)\n",
    "plt.ylabel(\"Number of Movies\", size=14)\n",
    "plt.show()"
   ]
  },
  {
   "cell_type": "markdown",
   "metadata": {},
   "source": [
    "***Aditya Chopra*** has the hightest grossing box office collecton <br>\n",
    "***Sajid Nadiadwala*** has the hightest per movie box office collection "
   ]
  },
  {
   "cell_type": "markdown",
   "metadata": {},
   "source": [
    "***2.7.Top Profitable movies***"
   ]
  },
  {
   "cell_type": "code",
   "execution_count": 24,
   "metadata": {},
   "outputs": [
    {
     "data": {
      "image/png": "[encoded data removed]",
      "text/plain": [
       "<Figure size 1440x432 with 1 Axes>"
      ]
     },
     "metadata": {
      "needs_background": "light"
     },
     "output_type": "display_data"
    }
   ],
   "source": [
    "Top_Movies = Movie_df.sort_values('Box_office_crores', ascending=False)[['Movie','Box_office_crores']].head(5)\n",
    "\n",
    "#we will be using blox pot\n",
    "plt.figure(figsize=(20, 6))\n",
    "splot = sns.barplot(x='Movie', y='Box_office_crores', data=Top_Movies);\n",
    "for p in splot.patches:\n",
    "    splot.annotate(format(p.get_height(), '.0f'), \n",
    "                   (p.get_x() + p.get_width() / 2., p.get_height()), \n",
    "                   ha = 'center', va = 'center', \n",
    "                   xytext = (0, 9), \n",
    "                   textcoords = 'offset points')\n",
    "plt.title('Top Highest and lowest grossing movies in terms of Box_office_crores');\n",
    "plt.xlabel(\"Movies\", size=14)\n",
    "plt.ylabel(\"Box_office_crores (Crores)\", size=14)\n",
    "plt.show()"
   ]
  },
  {
   "cell_type": "code",
   "execution_count": 25,
   "metadata": {},
   "outputs": [
    {
     "data": {
      "image/png": "[encoded data removed]",
      "text/plain": [
       "<Figure size 1440x432 with 1 Axes>"
      ]
     },
     "metadata": {
      "needs_background": "light"
     },
     "output_type": "display_data"
    }
   ],
   "source": [
    "Top_Movies = Movie_df.sort_values('Profit', ascending=False)[['Movie','Profit']].head(5)\n",
    "Bottom_Movies = Movie_df.sort_values('Profit', ascending=True)[['Movie','Profit']].head(5)\n",
    "Top_Bottom_Movies = pd.concat([Top_Movies,Bottom_Movies])\n",
    "Top_Bottom_Movies\n",
    "\n",
    "#we will be using blox pot\n",
    "plt.figure(figsize=(20, 6))\n",
    "splot = sns.barplot(x='Movie', y='Profit', data=Top_Bottom_Movies);\n",
    "for p in splot.patches:\n",
    "    splot.annotate(format(p.get_height(), '.0f'), \n",
    "                   (p.get_x() + p.get_width() / 2., p.get_height()), \n",
    "                   ha = 'center', va = 'center', \n",
    "                   xytext = (0, 9), \n",
    "                   textcoords = 'offset points')\n",
    "plt.title('Top Highest and lowest grossing movies in terms of Profit');\n",
    "plt.xlabel(\"Movies\", size=14)\n",
    "plt.ylabel(\"Profit (Crores)\", size=14)\n",
    "plt.show()"
   ]
  },
  {
   "cell_type": "markdown",
   "metadata": {},
   "source": [
    "<u><center> \"Padmavati\" and \"War\" highest grossing movies in box office collection and profits </center></u>"
   ]
  },
  {
   "cell_type": "markdown",
   "metadata": {},
   "source": [
    "***2.8.Top Actor/Actress all time in terms of Box office collection movies and number of movies***"
   ]
  },
  {
   "cell_type": "code",
   "execution_count": 26,
   "metadata": {},
   "outputs": [
    {
     "data": {
      "text/plain": [
       "Index(['Movie', 'Box_office_crores', 'Budget_crores', 'Certificate',\n",
       "       'Release_Date', 'Run_time_mins', 'Director', 'Producer', 'Lead_Actor1',\n",
       "       'Lead_Actor2', 'Lead_Actor3', 'Genre1', 'Genre2', 'Genre3',\n",
       "       'Release_Month', 'Release_Year', 'Profit', 'Log_Box_office_crores',\n",
       "       'Log_Budget_crores', 'Budget_crores_bins', 'Release_Year_bins'],\n",
       "      dtype='object')"
      ]
     },
     "execution_count": 26,
     "metadata": {},
     "output_type": "execute_result"
    }
   ],
   "source": [
    "Movie_df.columns"
   ]
  },
  {
   "cell_type": "code",
   "execution_count": 27,
   "metadata": {},
   "outputs": [
    {
     "data": {
      "text/html": [
       "<div>\n",
       "<style scoped>\n",
       "    .dataframe tbody tr th:only-of-type {\n",
       "        vertical-align: middle;\n",
       "    }\n",
       "\n",
       "    .dataframe tbody tr th {\n",
       "        vertical-align: top;\n",
       "    }\n",
       "\n",
       "    .dataframe thead th {\n",
       "        text-align: right;\n",
       "    }\n",
       "</style>\n",
       "<table border=\"1\" class=\"dataframe\">\n",
       "  <thead>\n",
       "    <tr style=\"text-align: right;\">\n",
       "      <th></th>\n",
       "      <th>Lead_Actor</th>\n",
       "      <th>Box_office_crores</th>\n",
       "      <th>Budget_crores</th>\n",
       "      <th>Number_of_Movies</th>\n",
       "      <th>per_movie_collection</th>\n",
       "    </tr>\n",
       "  </thead>\n",
       "  <tbody>\n",
       "    <tr>\n",
       "      <th>40</th>\n",
       "      <td>Akshay Kumar</td>\n",
       "      <td>4073.00</td>\n",
       "      <td>4073.00</td>\n",
       "      <td>51</td>\n",
       "      <td>79.9</td>\n",
       "    </tr>\n",
       "    <tr>\n",
       "      <th>684</th>\n",
       "      <td>Salman Khan</td>\n",
       "      <td>3469.00</td>\n",
       "      <td>3469.00</td>\n",
       "      <td>38</td>\n",
       "      <td>91.3</td>\n",
       "    </tr>\n",
       "    <tr>\n",
       "      <th>340</th>\n",
       "      <td>Katrina Kaif</td>\n",
       "      <td>2757.00</td>\n",
       "      <td>2757.00</td>\n",
       "      <td>30</td>\n",
       "      <td>91.9</td>\n",
       "    </tr>\n",
       "    <tr>\n",
       "      <th>168</th>\n",
       "      <td>Deepika Padukone</td>\n",
       "      <td>2153.00</td>\n",
       "      <td>2153.00</td>\n",
       "      <td>21</td>\n",
       "      <td>102.5</td>\n",
       "    </tr>\n",
       "    <tr>\n",
       "      <th>335</th>\n",
       "      <td>Kareena Kapoor Khan</td>\n",
       "      <td>2087.06</td>\n",
       "      <td>2087.06</td>\n",
       "      <td>34</td>\n",
       "      <td>61.4</td>\n",
       "    </tr>\n",
       "  </tbody>\n",
       "</table>\n",
       "</div>"
      ],
      "text/plain": [
       "              Lead_Actor  Box_office_crores  Budget_crores  Number_of_Movies  \\\n",
       "40          Akshay Kumar            4073.00        4073.00                51   \n",
       "684          Salman Khan            3469.00        3469.00                38   \n",
       "340         Katrina Kaif            2757.00        2757.00                30   \n",
       "168     Deepika Padukone            2153.00        2153.00                21   \n",
       "335  Kareena Kapoor Khan            2087.06        2087.06                34   \n",
       "\n",
       "     per_movie_collection  \n",
       "40                   79.9  \n",
       "684                  91.3  \n",
       "340                  91.9  \n",
       "168                 102.5  \n",
       "335                  61.4  "
      ]
     },
     "execution_count": 27,
     "metadata": {},
     "output_type": "execute_result"
    }
   ],
   "source": [
    "df1 = Movie_df[['Lead_Actor1','Box_office_crores','Budget_crores']]\n",
    "df1.columns = ['Lead_Actor','Box_office_crores','Budget_crores']\n",
    "df2 = Movie_df[['Lead_Actor2','Box_office_crores','Budget_crores']]\n",
    "df2.columns = ['Lead_Actor','Box_office_crores','Budget_crores']\n",
    "df3 = Movie_df[['Lead_Actor3','Box_office_crores','Budget_crores']]\n",
    "df3.columns = ['Lead_Actor','Box_office_crores','Budget_crores']\n",
    "\n",
    "df4 = pd.concat([df1,df2,df3])\n",
    "df4.head(10)\n",
    "\n",
    "df4.groupby\n",
    "\n",
    "grouped_cast =  df4.groupby('Lead_Actor')['Box_office_crores'].agg({'Box_office_crores':'sum','Budget_crores':'sum', 'Number_of_Movies':'count'}).reset_index()\n",
    "Top_cast = grouped_cast.sort_values('Box_office_crores', ascending=False).head(5)\n",
    "Top_cast['per_movie_collection'] = round(Top_cast['Box_office_crores']/ Top_cast['Number_of_Movies'],1)\n",
    "Top_cast"
   ]
  },
  {
   "cell_type": "code",
   "execution_count": 28,
   "metadata": {},
   "outputs": [],
   "source": [
    "df_cast = Movie_df.loc[Movie_df['Lead_Actor1'].isin(Top_cast['Lead_Actor'].head(5))] "
   ]
  },
  {
   "cell_type": "code",
   "execution_count": 29,
   "metadata": {},
   "outputs": [
    {
     "data": {
      "text/plain": [
       "<seaborn.axisgrid.FacetGrid at 0x236feda1f28>"
      ]
     },
     "execution_count": 29,
     "metadata": {},
     "output_type": "execute_result"
    },
    {
     "data": {
      "image/png": "[encoded data removed]",
      "text/plain": [
       "<Figure size 360x360 with 1 Axes>"
      ]
     },
     "metadata": {
      "needs_background": "light"
     },
     "output_type": "display_data"
    }
   ],
   "source": [
    "g = sns.catplot(x='Lead_Actor1', y='Budget_crores',kind=\"swarm\", data= df_cast);\n",
    "g.set_xticklabels(rotation=90)\n"
   ]
  },
  {
   "cell_type": "markdown",
   "metadata": {},
   "source": [
    "<u> Akshay kumar has performed in many low budget movies where as Salman Khan has worked mostly in high budgets </u>"
   ]
  },
  {
   "cell_type": "code",
   "execution_count": 30,
   "metadata": {},
   "outputs": [
    {
     "data": {
      "image/png": "[encoded data removed]",
      "text/plain": [
       "<Figure size 1440x576 with 2 Axes>"
      ]
     },
     "metadata": {
      "needs_background": "light"
     },
     "output_type": "display_data"
    }
   ],
   "source": [
    "fig = plt.figure(figsize=(20, 8)) # Create matplotlib figure\n",
    "\n",
    "ax = fig.add_subplot(111) # Create matplotlib axes\n",
    "ax2 = ax.twinx() # Create another axes that shares the same x-axis as ax.\n",
    "\n",
    "width = 0.3\n",
    "\n",
    "#plt.bar(Top_cast['Box_office_crores'],color='blue', ax=ax, width=width, position=1)\n",
    "#plt.bar(Top_cast['Number_of_Movies'],color='orange', ax=ax2, width=width, position=0)\n",
    "Top_cast.Box_office_crores.plot(kind='bar', color='blue', ax=ax, width=width, position=1)\n",
    "Top_cast.Number_of_Movies.plot(kind='bar', color='orange',ax=ax2, width=width, position=0)\n",
    "\n",
    "plt.title('Top Highest and lowest grossing movies in terms of Box office collection');\n",
    "ax.set_ylabel('Box office collection (crores)', size=14)\n",
    "ax2.set_ylabel('Number of Movies', size=14)\n",
    "ax.set_xticklabels(Top_cast['Lead_Actor'],fontsize=14)\n",
    "\n",
    "rects = ax.patches\n",
    "rects2 = ax2.patches\n",
    "\n",
    "# Make some labels.\n",
    "labels = Top_cast['Box_office_crores']\n",
    "labels2 = Top_cast['Number_of_Movies']\n",
    "\n",
    "for rect,label in zip(rects,labels):\n",
    "    height = rect.get_height()\n",
    "    ax.text(rect.get_x() + rect.get_width() / 2, height + 5, label,\n",
    "            ha='center', va='bottom')\n",
    "    \n",
    "for rect2, label2 in zip(rects2, labels2):\n",
    "    height = rect2.get_height()\n",
    "    ax2.text(rect2.get_x() + rect2.get_width() / 2, height , label2,\n",
    "            ha='center', va='bottom')\n",
    "    \n",
    "plt.show()"
   ]
  },
  {
   "cell_type": "markdown",
   "metadata": {},
   "source": [
    "***Akshay kumar, Salman Khan, Katrina kaif, Deepika Padukone*** are the most successfull actor/actress in the industry"
   ]
  },
  {
   "cell_type": "markdown",
   "metadata": {},
   "source": [
    "***2.9.Top Genres box office collection movies and number of movies***"
   ]
  },
  {
   "cell_type": "code",
   "execution_count": 31,
   "metadata": {},
   "outputs": [
    {
     "data": {
      "text/html": [
       "<div>\n",
       "<style scoped>\n",
       "    .dataframe tbody tr th:only-of-type {\n",
       "        vertical-align: middle;\n",
       "    }\n",
       "\n",
       "    .dataframe tbody tr th {\n",
       "        vertical-align: top;\n",
       "    }\n",
       "\n",
       "    .dataframe thead th {\n",
       "        text-align: right;\n",
       "    }\n",
       "</style>\n",
       "<table border=\"1\" class=\"dataframe\">\n",
       "  <thead>\n",
       "    <tr style=\"text-align: right;\">\n",
       "      <th></th>\n",
       "      <th>Genre</th>\n",
       "      <th>Box_office_crores</th>\n",
       "      <th>Number_of_Movies</th>\n",
       "    </tr>\n",
       "  </thead>\n",
       "  <tbody>\n",
       "    <tr>\n",
       "      <th>7</th>\n",
       "      <td>Drama</td>\n",
       "      <td>22028.40</td>\n",
       "      <td>666</td>\n",
       "    </tr>\n",
       "    <tr>\n",
       "      <th>0</th>\n",
       "      <td>Action</td>\n",
       "      <td>13818.99</td>\n",
       "      <td>271</td>\n",
       "    </tr>\n",
       "    <tr>\n",
       "      <th>4</th>\n",
       "      <td>Comedy</td>\n",
       "      <td>13543.65</td>\n",
       "      <td>383</td>\n",
       "    </tr>\n",
       "    <tr>\n",
       "      <th>16</th>\n",
       "      <td>Romance</td>\n",
       "      <td>9450.69</td>\n",
       "      <td>289</td>\n",
       "    </tr>\n",
       "    <tr>\n",
       "      <th>5</th>\n",
       "      <td>Crime</td>\n",
       "      <td>5923.50</td>\n",
       "      <td>184</td>\n",
       "    </tr>\n",
       "    <tr>\n",
       "      <th>21</th>\n",
       "      <td>Thriller</td>\n",
       "      <td>4198.92</td>\n",
       "      <td>141</td>\n",
       "    </tr>\n",
       "    <tr>\n",
       "      <th>1</th>\n",
       "      <td>Adventure</td>\n",
       "      <td>3947.84</td>\n",
       "      <td>74</td>\n",
       "    </tr>\n",
       "    <tr>\n",
       "      <th>14</th>\n",
       "      <td>Musical</td>\n",
       "      <td>2165.28</td>\n",
       "      <td>56</td>\n",
       "    </tr>\n",
       "    <tr>\n",
       "      <th>11</th>\n",
       "      <td>History</td>\n",
       "      <td>1921.66</td>\n",
       "      <td>21</td>\n",
       "    </tr>\n",
       "    <tr>\n",
       "      <th>3</th>\n",
       "      <td>Biography</td>\n",
       "      <td>1829.14</td>\n",
       "      <td>31</td>\n",
       "    </tr>\n",
       "  </tbody>\n",
       "</table>\n",
       "</div>"
      ],
      "text/plain": [
       "        Genre  Box_office_crores  Number_of_Movies\n",
       "7       Drama           22028.40               666\n",
       "0      Action           13818.99               271\n",
       "4      Comedy           13543.65               383\n",
       "16    Romance            9450.69               289\n",
       "5       Crime            5923.50               184\n",
       "21   Thriller            4198.92               141\n",
       "1   Adventure            3947.84                74\n",
       "14    Musical            2165.28                56\n",
       "11    History            1921.66                21\n",
       "3   Biography            1829.14                31"
      ]
     },
     "execution_count": 31,
     "metadata": {},
     "output_type": "execute_result"
    }
   ],
   "source": [
    "df1 = Movie_df[['Genre1','Box_office_crores']]\n",
    "df1.columns = ['Genre','Box_office_crores']\n",
    "df2 = Movie_df[['Genre2','Box_office_crores']]\n",
    "df2.columns = ['Genre','Box_office_crores']\n",
    "df3 = Movie_df[['Genre3','Box_office_crores']]\n",
    "df3.columns = ['Genre','Box_office_crores']\n",
    "\n",
    "df4 = pd.concat([df1,df2,df3])\n",
    "df4.head(10)\n",
    "\n",
    "df4.groupby\n",
    "\n",
    "grouped_genre =  df4.groupby('Genre')['Box_office_crores'].agg({'Box_office_crores':'sum','Number_of_Movies':'count'}).reset_index()\n",
    "Top_Genre = grouped_genre.sort_values('Box_office_crores', ascending=False).head(10)\n",
    "Top_Genre"
   ]
  },
  {
   "cell_type": "code",
   "execution_count": 32,
   "metadata": {},
   "outputs": [
    {
     "data": {
      "image/png": "[encoded data removed]",
      "text/plain": [
       "<Figure size 360x360 with 1 Axes>"
      ]
     },
     "metadata": {
      "needs_background": "light"
     },
     "output_type": "display_data"
    }
   ],
   "source": [
    "sns.catplot(x='Genre1', y='Box_office_crores',kind=\"swarm\", data= Movie_df.loc[(Movie_df['Box_office_crores'] >= 5) & (Movie_df['Box_office_crores'] <= 200) & Movie_df['Genre1'].isin(Top_Genre['Genre'].head(5))] );"
   ]
  },
  {
   "cell_type": "markdown",
   "metadata": {},
   "source": [
    "<u> Most Movies belongs to Comedy or Action category. </u>"
   ]
  },
  {
   "cell_type": "code",
   "execution_count": 33,
   "metadata": {},
   "outputs": [
    {
     "data": {
      "text/plain": [
       "Index(['Movie', 'Box_office_crores', 'Budget_crores', 'Certificate',\n",
       "       'Release_Date', 'Run_time_mins', 'Director', 'Producer', 'Lead_Actor1',\n",
       "       'Lead_Actor2', 'Lead_Actor3', 'Genre1', 'Genre2', 'Genre3',\n",
       "       'Release_Month', 'Release_Year', 'Profit', 'Log_Box_office_crores',\n",
       "       'Log_Budget_crores', 'Budget_crores_bins', 'Release_Year_bins'],\n",
       "      dtype='object')"
      ]
     },
     "execution_count": 33,
     "metadata": {},
     "output_type": "execute_result"
    }
   ],
   "source": [
    "Movie_df.columns"
   ]
  },
  {
   "cell_type": "markdown",
   "metadata": {},
   "source": [
    "## 3. Data Transformation"
   ]
  },
  {
   "cell_type": "markdown",
   "metadata": {},
   "source": [
    "***3.1. As the inflation will play role collection and budget numbers over the period of time, Calculating profit percentage of each movie***"
   ]
  },
  {
   "cell_type": "code",
   "execution_count": 34,
   "metadata": {},
   "outputs": [],
   "source": [
    "Movie_df['Profict_pct'] = Movie_df['Profit']/Movie_df['Budget_crores']"
   ]
  },
  {
   "cell_type": "code",
   "execution_count": 35,
   "metadata": {},
   "outputs": [
    {
     "data": {
      "text/plain": [
       "0.25   -0.750000\n",
       "0.50   -0.277778\n",
       "0.60   -0.090909\n",
       "0.65    0.000000\n",
       "0.70    0.153846\n",
       "Name: Profict_pct, dtype: float64"
      ]
     },
     "execution_count": 35,
     "metadata": {},
     "output_type": "execute_result"
    }
   ],
   "source": [
    "Movie_df['Profict_pct'].quantile([0.25,0.5, 0.6,0.65,.7], interpolation='nearest')"
   ]
  },
  {
   "cell_type": "markdown",
   "metadata": {},
   "source": [
    "Around 65 percentage movies in the data has negative profit percentage value."
   ]
  },
  {
   "cell_type": "markdown",
   "metadata": {},
   "source": [
    "***3.2. Subseting the movies dataset based on the box office collection greater then 1 Crs and released after 2000***"
   ]
  },
  {
   "cell_type": "code",
   "execution_count": 36,
   "metadata": {},
   "outputs": [
    {
     "data": {
      "text/plain": [
       "(672, 22)"
      ]
     },
     "execution_count": 36,
     "metadata": {},
     "output_type": "execute_result"
    }
   ],
   "source": [
    "Movie_df1 = Movie_df.loc[ (Movie_df['Box_office_crores'] > 1) & (Movie_df['Release_Year'] > 2000)]\n",
    "Movie_df1.shape"
   ]
  },
  {
   "cell_type": "markdown",
   "metadata": {},
   "source": [
    "***3.3. Dividing Profit percentage into two categories, Movies with more then 10% profit are 1 (successful) and rest are in 0 (unsuccessful) category***"
   ]
  },
  {
   "cell_type": "code",
   "execution_count": 37,
   "metadata": {},
   "outputs": [
    {
     "data": {
      "text/plain": [
       "0    412\n",
       "1    260\n",
       "Name: Profict_pct_bins, dtype: int64"
      ]
     },
     "execution_count": 37,
     "metadata": {},
     "output_type": "execute_result"
    }
   ],
   "source": [
    "bins = [-np.inf ,0.1, np.inf]\n",
    "names = [0, 1]\n",
    "\n",
    "Movie_df1['Profict_pct_bins'] = pd.cut(Movie_df1['Profict_pct'], bins, labels=names)\n",
    "Movie_df1['Profict_pct_bins'].value_counts()"
   ]
  },
  {
   "cell_type": "code",
   "execution_count": 38,
   "metadata": {},
   "outputs": [
    {
     "data": {
      "text/plain": [
       "Text(0,0.5,'Profict_pct_bins')"
      ]
     },
     "execution_count": 38,
     "metadata": {},
     "output_type": "execute_result"
    },
    {
     "data": {
      "image/png": "[encoded data removed]",
      "text/plain": [
       "<Figure size 432x288 with 1 Axes>"
      ]
     },
     "metadata": {
      "needs_background": "light"
     },
     "output_type": "display_data"
    }
   ],
   "source": [
    "pd.crosstab(Movie_df1.Budget_crores_bins,Movie_df1.Profict_pct_bins).plot(kind='bar')\n",
    "plt.title('Budget_crores_bins movie success freq')\n",
    "plt.xlabel('Budget_crores_bins')\n",
    "plt.ylabel('Profict_pct_bins')"
   ]
  },
  {
   "cell_type": "markdown",
   "metadata": {},
   "source": [
    "<u> Interestingly in non of movie budget range, 1 (Success) is higher then the 0 (Unsuccessful). And in all the ranges successful movies are present <\\u>"
   ]
  },
  {
   "cell_type": "code",
   "execution_count": 39,
   "metadata": {},
   "outputs": [
    {
     "data": {
      "text/plain": [
       "Index(['Movie', 'Box_office_crores', 'Budget_crores', 'Certificate',\n",
       "       'Release_Date', 'Run_time_mins', 'Director', 'Producer', 'Lead_Actor1',\n",
       "       'Lead_Actor2', 'Lead_Actor3', 'Genre1', 'Genre2', 'Genre3',\n",
       "       'Release_Month', 'Release_Year', 'Profit', 'Log_Box_office_crores',\n",
       "       'Log_Budget_crores', 'Budget_crores_bins', 'Release_Year_bins',\n",
       "       'Profict_pct', 'Profict_pct_bins'],\n",
       "      dtype='object')"
      ]
     },
     "execution_count": 39,
     "metadata": {},
     "output_type": "execute_result"
    }
   ],
   "source": [
    "Movie_df1.columns"
   ]
  },
  {
   "cell_type": "markdown",
   "metadata": {},
   "source": [
    "***3.3. Converting the lead actor1,lead actor2, lead actor3 into the categories of Best, Good, Avg and Bad based on the historical box office collection by the lead actors***"
   ]
  },
  {
   "cell_type": "code",
   "execution_count": 40,
   "metadata": {},
   "outputs": [
    {
     "data": {
      "text/plain": [
       "0.25       1.0\n",
       "0.80      65.0\n",
       "0.96     595.0\n",
       "0.99    1632.0\n",
       "1.00    4073.0\n",
       "Name: Box_office_crores, dtype: float64"
      ]
     },
     "execution_count": 40,
     "metadata": {},
     "output_type": "execute_result"
    }
   ],
   "source": [
    "cast = grouped_cast.sort_values('Box_office_crores', ascending=False) ## using the grouped_cast variable created before\n",
    "cast['Box_office_crores'].quantile([0.25,0.8,.96,.99,1], interpolation='nearest')\n"
   ]
  },
  {
   "cell_type": "code",
   "execution_count": 41,
   "metadata": {},
   "outputs": [
    {
     "data": {
      "text/plain": [
       "Bad     734\n",
       "Avg     145\n",
       "Good     28\n",
       "Best      9\n",
       "Name: Bins, dtype: int64"
      ]
     },
     "execution_count": 41,
     "metadata": {},
     "output_type": "execute_result"
    }
   ],
   "source": [
    "bins = [0, 65, 595, 1632.0, 4073]\n",
    "labels=[\"Bad\", \"Avg\", \"Good\",\"Best\"]\n",
    "cast['Bins'] = pd.cut(cast['Box_office_crores'],bins=bins, labels=labels)\n",
    "cast = cast[['Lead_Actor','Bins']]\n",
    "cast['Bins'].value_counts()"
   ]
  },
  {
   "cell_type": "code",
   "execution_count": 42,
   "metadata": {},
   "outputs": [
    {
     "data": {
      "text/plain": [
       "24"
      ]
     },
     "execution_count": 42,
     "metadata": {},
     "output_type": "execute_result"
    }
   ],
   "source": [
    "cast.columns = ['Lead_Actor1', 'Lead_Actor1_Bins']\n",
    "Movie_df1 = pd.merge(Movie_df1,cast,how = 'left',on='Lead_Actor1')\n",
    "len(Movie_df1.columns)"
   ]
  },
  {
   "cell_type": "code",
   "execution_count": 43,
   "metadata": {},
   "outputs": [
    {
     "data": {
      "text/plain": [
       "Text(0,0.5,'Profict_pct_bins')"
      ]
     },
     "execution_count": 43,
     "metadata": {},
     "output_type": "execute_result"
    },
    {
     "data": {
      "image/png": "[encoded data removed]",
      "text/plain": [
       "<Figure size 432x288 with 1 Axes>"
      ]
     },
     "metadata": {
      "needs_background": "light"
     },
     "output_type": "display_data"
    }
   ],
   "source": [
    "pd.crosstab(Movie_df1.Lead_Actor1_Bins,Movie_df1.Profict_pct_bins).plot(kind='bar')\n",
    "plt.title('Lead Actor1 movie success freq')\n",
    "plt.xlabel('Lead_Actor1_Bins')\n",
    "plt.ylabel('Profict_pct_bins')"
   ]
  },
  {
   "cell_type": "code",
   "execution_count": 44,
   "metadata": {},
   "outputs": [
    {
     "data": {
      "text/plain": [
       "25"
      ]
     },
     "execution_count": 44,
     "metadata": {},
     "output_type": "execute_result"
    }
   ],
   "source": [
    "cast.columns = ['Lead_Actor2', 'Lead_Actor2_Bins']\n",
    "Movie_df1 = pd.merge(Movie_df1,cast,how = 'left',on='Lead_Actor2')\n",
    "len(Movie_df1.columns)"
   ]
  },
  {
   "cell_type": "code",
   "execution_count": 45,
   "metadata": {},
   "outputs": [
    {
     "data": {
      "text/plain": [
       "Text(0,0.5,'Profict_pct_bins')"
      ]
     },
     "execution_count": 45,
     "metadata": {},
     "output_type": "execute_result"
    },
    {
     "data": {
      "image/png": "[encoded data removed]",
      "text/plain": [
       "<Figure size 432x288 with 1 Axes>"
      ]
     },
     "metadata": {
      "needs_background": "light"
     },
     "output_type": "display_data"
    }
   ],
   "source": [
    "pd.crosstab(Movie_df1.Lead_Actor2_Bins,Movie_df1.Profict_pct_bins).plot(kind='bar')\n",
    "plt.title('Lead Actor2 movie success freq')\n",
    "plt.xlabel('Lead_Actor1_Bins')\n",
    "plt.ylabel('Profict_pct_bins')"
   ]
  },
  {
   "cell_type": "code",
   "execution_count": 46,
   "metadata": {},
   "outputs": [
    {
     "data": {
      "text/plain": [
       "26"
      ]
     },
     "execution_count": 46,
     "metadata": {},
     "output_type": "execute_result"
    }
   ],
   "source": [
    "cast.columns = ['Lead_Actor3', 'Lead_Actor3_Bins']\n",
    "Movie_df1 = pd.merge(Movie_df1,cast,how = 'left',on='Lead_Actor3')\n",
    "len(Movie_df1.columns)"
   ]
  },
  {
   "cell_type": "code",
   "execution_count": 47,
   "metadata": {},
   "outputs": [
    {
     "data": {
      "text/html": [
       "<div>\n",
       "<style scoped>\n",
       "    .dataframe tbody tr th:only-of-type {\n",
       "        vertical-align: middle;\n",
       "    }\n",
       "\n",
       "    .dataframe tbody tr th {\n",
       "        vertical-align: top;\n",
       "    }\n",
       "\n",
       "    .dataframe thead th {\n",
       "        text-align: right;\n",
       "    }\n",
       "</style>\n",
       "<table border=\"1\" class=\"dataframe\">\n",
       "  <thead>\n",
       "    <tr style=\"text-align: right;\">\n",
       "      <th></th>\n",
       "      <th>Movie</th>\n",
       "      <th>Box_office_crores</th>\n",
       "      <th>Budget_crores</th>\n",
       "      <th>Certificate</th>\n",
       "      <th>Release_Date</th>\n",
       "      <th>Run_time_mins</th>\n",
       "      <th>Director</th>\n",
       "      <th>Producer</th>\n",
       "      <th>Lead_Actor1</th>\n",
       "      <th>Lead_Actor2</th>\n",
       "      <th>...</th>\n",
       "      <th>Profit</th>\n",
       "      <th>Log_Box_office_crores</th>\n",
       "      <th>Log_Budget_crores</th>\n",
       "      <th>Budget_crores_bins</th>\n",
       "      <th>Release_Year_bins</th>\n",
       "      <th>Profict_pct</th>\n",
       "      <th>Profict_pct_bins</th>\n",
       "      <th>Lead_Actor1_Bins</th>\n",
       "      <th>Lead_Actor2_Bins</th>\n",
       "      <th>Lead_Actor3_Bins</th>\n",
       "    </tr>\n",
       "  </thead>\n",
       "  <tbody>\n",
       "    <tr>\n",
       "      <th>0</th>\n",
       "      <td>sanju</td>\n",
       "      <td>334.0</td>\n",
       "      <td>96.0</td>\n",
       "      <td>U/A</td>\n",
       "      <td>2019-04-12</td>\n",
       "      <td>161</td>\n",
       "      <td>Rajkumar Hirani</td>\n",
       "      <td>Rajkumar Hirani</td>\n",
       "      <td>Anushka Sharma</td>\n",
       "      <td>Sonam Kapoor</td>\n",
       "      <td>...</td>\n",
       "      <td>238.0</td>\n",
       "      <td>5.814131</td>\n",
       "      <td>4.574711</td>\n",
       "      <td>50-100</td>\n",
       "      <td>2015-2019</td>\n",
       "      <td>2.479167</td>\n",
       "      <td>1</td>\n",
       "      <td>Best</td>\n",
       "      <td>Good</td>\n",
       "      <td>Good</td>\n",
       "    </tr>\n",
       "    <tr>\n",
       "      <th>1</th>\n",
       "      <td>3-idiots</td>\n",
       "      <td>201.0</td>\n",
       "      <td>77.0</td>\n",
       "      <td>U/A</td>\n",
       "      <td>2009-12-24</td>\n",
       "      <td>171</td>\n",
       "      <td>Rajkumar Hirani</td>\n",
       "      <td>Vidhu Vinod Chopra</td>\n",
       "      <td>Aamir Khan</td>\n",
       "      <td>R Madhavan</td>\n",
       "      <td>...</td>\n",
       "      <td>124.0</td>\n",
       "      <td>5.308268</td>\n",
       "      <td>4.356709</td>\n",
       "      <td>50-100</td>\n",
       "      <td>2005-2010</td>\n",
       "      <td>1.610390</td>\n",
       "      <td>1</td>\n",
       "      <td>Good</td>\n",
       "      <td>Avg</td>\n",
       "      <td>Best</td>\n",
       "    </tr>\n",
       "    <tr>\n",
       "      <th>2</th>\n",
       "      <td>black-friday</td>\n",
       "      <td>4.0</td>\n",
       "      <td>4.0</td>\n",
       "      <td>U/A</td>\n",
       "      <td>2007-02-09</td>\n",
       "      <td>143</td>\n",
       "      <td>Anurag Kashyap</td>\n",
       "      <td>Arindam Mitra</td>\n",
       "      <td>Kay Kay Menon</td>\n",
       "      <td>Nawazuddin Siddiqui</td>\n",
       "      <td>...</td>\n",
       "      <td>0.0</td>\n",
       "      <td>1.609438</td>\n",
       "      <td>1.609438</td>\n",
       "      <td>&lt; 1</td>\n",
       "      <td>2005-2010</td>\n",
       "      <td>0.000000</td>\n",
       "      <td>0</td>\n",
       "      <td>Bad</td>\n",
       "      <td>Avg</td>\n",
       "      <td>Bad</td>\n",
       "    </tr>\n",
       "    <tr>\n",
       "      <th>3</th>\n",
       "      <td>andhadhun</td>\n",
       "      <td>73.0</td>\n",
       "      <td>32.0</td>\n",
       "      <td>U/A</td>\n",
       "      <td>2018-10-05</td>\n",
       "      <td>139</td>\n",
       "      <td>Sriram Raghavan</td>\n",
       "      <td>Sanjay Routray</td>\n",
       "      <td>Tabu Hashmi</td>\n",
       "      <td>Ayushmann Khurrana</td>\n",
       "      <td>...</td>\n",
       "      <td>41.0</td>\n",
       "      <td>4.304065</td>\n",
       "      <td>3.496508</td>\n",
       "      <td>30-50</td>\n",
       "      <td>2015-2019</td>\n",
       "      <td>1.281250</td>\n",
       "      <td>1</td>\n",
       "      <td>Avg</td>\n",
       "      <td>Avg</td>\n",
       "      <td>Avg</td>\n",
       "    </tr>\n",
       "    <tr>\n",
       "      <th>4</th>\n",
       "      <td>rang-de-basanti</td>\n",
       "      <td>53.0</td>\n",
       "      <td>28.0</td>\n",
       "      <td>U/A</td>\n",
       "      <td>2006-01-26</td>\n",
       "      <td>171</td>\n",
       "      <td>Rakeysh Omprakash Mehra</td>\n",
       "      <td>David Reid</td>\n",
       "      <td>Aamir Khan</td>\n",
       "      <td>Siddharth Narayan</td>\n",
       "      <td>...</td>\n",
       "      <td>25.0</td>\n",
       "      <td>3.988984</td>\n",
       "      <td>3.367296</td>\n",
       "      <td>10-20</td>\n",
       "      <td>2005-2010</td>\n",
       "      <td>0.892857</td>\n",
       "      <td>1</td>\n",
       "      <td>Good</td>\n",
       "      <td>Avg</td>\n",
       "      <td>Avg</td>\n",
       "    </tr>\n",
       "  </tbody>\n",
       "</table>\n",
       "<p>5 rows × 26 columns</p>\n",
       "</div>"
      ],
      "text/plain": [
       "             Movie  Box_office_crores  Budget_crores Certificate Release_Date  \\\n",
       "0            sanju              334.0           96.0         U/A   2019-04-12   \n",
       "1         3-idiots              201.0           77.0         U/A   2009-12-24   \n",
       "2     black-friday                4.0            4.0         U/A   2007-02-09   \n",
       "3        andhadhun               73.0           32.0         U/A   2018-10-05   \n",
       "4  rang-de-basanti               53.0           28.0         U/A   2006-01-26   \n",
       "\n",
       "   Run_time_mins                 Director            Producer     Lead_Actor1  \\\n",
       "0            161          Rajkumar Hirani     Rajkumar Hirani  Anushka Sharma   \n",
       "1            171          Rajkumar Hirani  Vidhu Vinod Chopra      Aamir Khan   \n",
       "2            143           Anurag Kashyap       Arindam Mitra   Kay Kay Menon   \n",
       "3            139          Sriram Raghavan      Sanjay Routray     Tabu Hashmi   \n",
       "4            171  Rakeysh Omprakash Mehra          David Reid      Aamir Khan   \n",
       "\n",
       "           Lead_Actor2       ...        Profit Log_Box_office_crores  \\\n",
       "0         Sonam Kapoor       ...         238.0              5.814131   \n",
       "1           R Madhavan       ...         124.0              5.308268   \n",
       "2  Nawazuddin Siddiqui       ...           0.0              1.609438   \n",
       "3   Ayushmann Khurrana       ...          41.0              4.304065   \n",
       "4    Siddharth Narayan       ...          25.0              3.988984   \n",
       "\n",
       "  Log_Budget_crores Budget_crores_bins Release_Year_bins  Profict_pct  \\\n",
       "0          4.574711             50-100         2015-2019     2.479167   \n",
       "1          4.356709             50-100         2005-2010     1.610390   \n",
       "2          1.609438                < 1         2005-2010     0.000000   \n",
       "3          3.496508              30-50         2015-2019     1.281250   \n",
       "4          3.367296              10-20         2005-2010     0.892857   \n",
       "\n",
       "   Profict_pct_bins  Lead_Actor1_Bins  Lead_Actor2_Bins Lead_Actor3_Bins  \n",
       "0                 1              Best              Good             Good  \n",
       "1                 1              Good               Avg             Best  \n",
       "2                 0               Bad               Avg              Bad  \n",
       "3                 1               Avg               Avg              Avg  \n",
       "4                 1              Good               Avg              Avg  \n",
       "\n",
       "[5 rows x 26 columns]"
      ]
     },
     "execution_count": 47,
     "metadata": {},
     "output_type": "execute_result"
    }
   ],
   "source": [
    "Movie_df1.head()"
   ]
  },
  {
   "cell_type": "markdown",
   "metadata": {},
   "source": [
    "***3.4. We have 23 different categories of Genres, Therefore converting them into four categories based on the historical box office collection***"
   ]
  },
  {
   "cell_type": "code",
   "execution_count": 48,
   "metadata": {},
   "outputs": [
    {
     "data": {
      "text/html": [
       "<div>\n",
       "<style scoped>\n",
       "    .dataframe tbody tr th:only-of-type {\n",
       "        vertical-align: middle;\n",
       "    }\n",
       "\n",
       "    .dataframe tbody tr th {\n",
       "        vertical-align: top;\n",
       "    }\n",
       "\n",
       "    .dataframe thead th {\n",
       "        text-align: right;\n",
       "    }\n",
       "</style>\n",
       "<table border=\"1\" class=\"dataframe\">\n",
       "  <thead>\n",
       "    <tr style=\"text-align: right;\">\n",
       "      <th></th>\n",
       "      <th>Genre</th>\n",
       "      <th>Box_office_crores</th>\n",
       "      <th>Number_of_Movies</th>\n",
       "    </tr>\n",
       "  </thead>\n",
       "  <tbody>\n",
       "    <tr>\n",
       "      <th>0</th>\n",
       "      <td>Action</td>\n",
       "      <td>13818.99</td>\n",
       "      <td>271</td>\n",
       "    </tr>\n",
       "    <tr>\n",
       "      <th>1</th>\n",
       "      <td>Adventure</td>\n",
       "      <td>3947.84</td>\n",
       "      <td>74</td>\n",
       "    </tr>\n",
       "    <tr>\n",
       "      <th>2</th>\n",
       "      <td>Animation</td>\n",
       "      <td>19.26</td>\n",
       "      <td>11</td>\n",
       "    </tr>\n",
       "    <tr>\n",
       "      <th>3</th>\n",
       "      <td>Biography</td>\n",
       "      <td>1829.14</td>\n",
       "      <td>31</td>\n",
       "    </tr>\n",
       "    <tr>\n",
       "      <th>4</th>\n",
       "      <td>Comedy</td>\n",
       "      <td>13543.65</td>\n",
       "      <td>383</td>\n",
       "    </tr>\n",
       "  </tbody>\n",
       "</table>\n",
       "</div>"
      ],
      "text/plain": [
       "       Genre  Box_office_crores  Number_of_Movies\n",
       "0     Action           13818.99               271\n",
       "1  Adventure            3947.84                74\n",
       "2  Animation              19.26                11\n",
       "3  Biography            1829.14                31\n",
       "4     Comedy           13543.65               383"
      ]
     },
     "execution_count": 48,
     "metadata": {},
     "output_type": "execute_result"
    }
   ],
   "source": [
    "grouped_genre.head() ## using the grouped_cast variable created before"
   ]
  },
  {
   "cell_type": "code",
   "execution_count": 49,
   "metadata": {},
   "outputs": [
    {
     "data": {
      "text/plain": [
       "0.25      286.51\n",
       "0.80     5923.50\n",
       "0.95    13818.99\n",
       "1.00    22028.40\n",
       "Name: Box_office_crores, dtype: float64"
      ]
     },
     "execution_count": 49,
     "metadata": {},
     "output_type": "execute_result"
    }
   ],
   "source": [
    "Genre = grouped_genre.sort_values('Box_office_crores', ascending=False)\n",
    "Genre['Box_office_crores'].quantile([0.25,0.8, 0.95,1], interpolation='nearest')\n"
   ]
  },
  {
   "cell_type": "code",
   "execution_count": 50,
   "metadata": {},
   "outputs": [
    {
     "data": {
      "text/plain": [
       "Bad     19\n",
       "Avg      3\n",
       "Good     1\n",
       "Name: Bins, dtype: int64"
      ]
     },
     "execution_count": 50,
     "metadata": {},
     "output_type": "execute_result"
    }
   ],
   "source": [
    "bins = [0, 5924, 13819, 22029]\n",
    "labels=[\"Bad\", \"Avg\", \"Good\"]\n",
    "Genre['Bins'] = pd.cut(Genre['Box_office_crores'],bins=bins, labels=labels)\n",
    "Genre = Genre[['Genre','Bins']]\n",
    "Genre['Bins'].value_counts()"
   ]
  },
  {
   "cell_type": "code",
   "execution_count": 51,
   "metadata": {},
   "outputs": [
    {
     "data": {
      "text/plain": [
       "27"
      ]
     },
     "execution_count": 51,
     "metadata": {},
     "output_type": "execute_result"
    }
   ],
   "source": [
    "Genre.columns = ['Genre1', 'Genre1_Bins']\n",
    "Movie_df1 = pd.merge(Movie_df1,Genre,how = 'left',on='Genre1')\n",
    "len(Movie_df1.columns)"
   ]
  },
  {
   "cell_type": "code",
   "execution_count": 52,
   "metadata": {},
   "outputs": [
    {
     "data": {
      "text/plain": [
       "28"
      ]
     },
     "execution_count": 52,
     "metadata": {},
     "output_type": "execute_result"
    }
   ],
   "source": [
    "Genre.columns = ['Genre2', 'Genre2_Bins']\n",
    "Movie_df1 = pd.merge(Movie_df1,Genre,how = 'left',on='Genre2')\n",
    "len(Movie_df1.columns)"
   ]
  },
  {
   "cell_type": "code",
   "execution_count": 53,
   "metadata": {},
   "outputs": [
    {
     "data": {
      "text/plain": [
       "29"
      ]
     },
     "execution_count": 53,
     "metadata": {},
     "output_type": "execute_result"
    }
   ],
   "source": [
    "Genre.columns = ['Genre3', 'Genre3_Bins']\n",
    "Movie_df1 = pd.merge(Movie_df1,Genre,how = 'left',on='Genre3')\n",
    "len(Movie_df1.columns)"
   ]
  },
  {
   "cell_type": "markdown",
   "metadata": {},
   "source": [
    "***3.5. Converting directors into four categories based on the historical box office collection***"
   ]
  },
  {
   "cell_type": "code",
   "execution_count": 57,
   "metadata": {},
   "outputs": [
    {
     "data": {
      "text/plain": [
       "0.25       1.0\n",
       "0.50      10.0\n",
       "0.80     110.0\n",
       "0.90     189.0\n",
       "0.98     427.0\n",
       "1.00    1307.0\n",
       "Name: Box_office_crores, dtype: float64"
      ]
     },
     "execution_count": 57,
     "metadata": {},
     "output_type": "execute_result"
    }
   ],
   "source": [
    "Directors = grouped_Directors.sort_values('Box_office_crores', ascending=False)\n",
    "Directors['Box_office_crores'].quantile([0.25,0.5, 0.8,.9,.98,1], interpolation='nearest')\n"
   ]
  },
  {
   "cell_type": "code",
   "execution_count": 58,
   "metadata": {},
   "outputs": [
    {
     "data": {
      "text/plain": [
       "Bad     366\n",
       "Avg      46\n",
       "Good     36\n",
       "Best      9\n",
       "Name: Bins, dtype: int64"
      ]
     },
     "execution_count": 58,
     "metadata": {},
     "output_type": "execute_result"
    }
   ],
   "source": [
    "bins = [0, 110, 189, 427.0, 1307]\n",
    "labels=[\"Bad\", \"Avg\", \"Good\",\"Best\"]\n",
    "Directors['Bins'] = pd.cut(Directors['Box_office_crores'],bins=bins, labels=labels)\n",
    "Directors = Directors[['Director','Bins']]\n",
    "#Directors.head(5)\n",
    "Directors['Bins'].value_counts()"
   ]
  },
  {
   "cell_type": "code",
   "execution_count": 59,
   "metadata": {},
   "outputs": [
    {
     "data": {
      "text/plain": [
       "30"
      ]
     },
     "execution_count": 59,
     "metadata": {},
     "output_type": "execute_result"
    }
   ],
   "source": [
    "Directors.columns = ['Director', 'Director_Bins']\n",
    "Movie_df1 = pd.merge(Movie_df1,Directors,how = 'left',on='Director')\n",
    "len(Movie_df1.columns)"
   ]
  },
  {
   "cell_type": "code",
   "execution_count": 60,
   "metadata": {},
   "outputs": [
    {
     "data": {
      "text/plain": [
       "Index(['Movie', 'Box_office_crores', 'Budget_crores', 'Certificate',\n",
       "       'Release_Date', 'Run_time_mins', 'Director', 'Producer', 'Lead_Actor1',\n",
       "       'Lead_Actor2', 'Lead_Actor3', 'Genre1', 'Genre2', 'Genre3',\n",
       "       'Release_Month', 'Release_Year', 'Profit', 'Log_Box_office_crores',\n",
       "       'Log_Budget_crores', 'Budget_crores_bins', 'Release_Year_bins',\n",
       "       'Profict_pct', 'Profict_pct_bins', 'Lead_Actor1_Bins',\n",
       "       'Lead_Actor2_Bins', 'Lead_Actor3_Bins', 'Genre1_Bins', 'Genre2_Bins',\n",
       "       'Genre3_Bins', 'Director_Bins'],\n",
       "      dtype='object')"
      ]
     },
     "execution_count": 60,
     "metadata": {},
     "output_type": "execute_result"
    }
   ],
   "source": [
    "Movie_df1.columns"
   ]
  },
  {
   "cell_type": "code",
   "execution_count": 61,
   "metadata": {},
   "outputs": [
    {
     "data": {
      "text/plain": [
       "Text(0,0.5,'Profict_pct_bins')"
      ]
     },
     "execution_count": 61,
     "metadata": {},
     "output_type": "execute_result"
    },
    {
     "data": {
      "image/png": "[encoded data removed]",
      "text/plain": [
       "<Figure size 432x288 with 1 Axes>"
      ]
     },
     "metadata": {
      "needs_background": "light"
     },
     "output_type": "display_data"
    }
   ],
   "source": [
    "pd.crosstab(Movie_df1.Director_Bins,Movie_df1.Profict_pct_bins).plot(kind='bar')\n",
    "plt.title('Director_Bin movie success freq ')\n",
    "plt.xlabel('Director_Bins')\n",
    "plt.ylabel('Profict_pct_bins')"
   ]
  },
  {
   "cell_type": "code",
   "execution_count": 62,
   "metadata": {},
   "outputs": [
    {
     "data": {
      "text/plain": [
       "0.25       1.00\n",
       "0.80      96.00\n",
       "0.94     334.00\n",
       "0.98     717.00\n",
       "1.00    3361.35\n",
       "Name: Box_office_crores, dtype: float64"
      ]
     },
     "execution_count": 62,
     "metadata": {},
     "output_type": "execute_result"
    }
   ],
   "source": [
    "Producer = grouped_Producer.sort_values('Box_office_crores', ascending=False)\n",
    "Producer['Box_office_crores'].quantile([0.25, 0.8,.94,.98,1], interpolation='nearest')"
   ]
  },
  {
   "cell_type": "code",
   "execution_count": 63,
   "metadata": {},
   "outputs": [
    {
     "data": {
      "text/plain": [
       "Bad     263\n",
       "Avg      46\n",
       "Good     13\n",
       "Best      7\n",
       "Name: Bins, dtype: int64"
      ]
     },
     "execution_count": 63,
     "metadata": {},
     "output_type": "execute_result"
    }
   ],
   "source": [
    "bins = [0, 96, 334, 717, 3362]\n",
    "labels=[\"Bad\", \"Avg\", \"Good\",\"Best\"]\n",
    "Producer['Bins'] = pd.cut(Producer['Box_office_crores'],bins=bins, labels=labels)\n",
    "Producer = Producer[['Producer','Bins']]\n",
    "#Producer.head(5)\n",
    "Producer['Bins'].value_counts()"
   ]
  },
  {
   "cell_type": "code",
   "execution_count": 64,
   "metadata": {},
   "outputs": [
    {
     "data": {
      "text/plain": [
       "31"
      ]
     },
     "execution_count": 64,
     "metadata": {},
     "output_type": "execute_result"
    }
   ],
   "source": [
    "Producer.columns = ['Producer', 'Producer_Bins']\n",
    "Movie_df1 = pd.merge(Movie_df1,Producer,how = 'left',on='Producer')\n",
    "len(Movie_df1.columns)"
   ]
  },
  {
   "cell_type": "code",
   "execution_count": 65,
   "metadata": {},
   "outputs": [
    {
     "data": {
      "image/png": "[encoded data removed]",
      "text/plain": [
       "<Figure size 432x288 with 1 Axes>"
      ]
     },
     "metadata": {
      "needs_background": "light"
     },
     "output_type": "display_data"
    }
   ],
   "source": [
    "pd.crosstab(Movie_df1.Producer_Bins,Movie_df1.Profict_pct_bins).plot(kind='bar')\n",
    "plt.title('Purchase Frequency for Day of Week')\n",
    "plt.xlabel('Day of Week')\n",
    "plt.ylabel('Frequency of Purchase')\n",
    "plt.savefig('pur_dayofweek_bar')"
   ]
  },
  {
   "cell_type": "markdown",
   "metadata": {},
   "source": [
    "## 4. Predictive model building"
   ]
  },
  {
   "cell_type": "markdown",
   "metadata": {},
   "source": [
    "Budling the classfication model on using 'Profict_pct_bins' as dependent variable and Lead_Actor, Genre, Director, Producer, Budget,Release month as independent variable"
   ]
  },
  {
   "cell_type": "code",
   "execution_count": 66,
   "metadata": {},
   "outputs": [
    {
     "data": {
      "text/plain": [
       "Index(['Movie', 'Box_office_crores', 'Budget_crores', 'Certificate',\n",
       "       'Release_Date', 'Run_time_mins', 'Director', 'Producer', 'Lead_Actor1',\n",
       "       'Lead_Actor2', 'Lead_Actor3', 'Genre1', 'Genre2', 'Genre3',\n",
       "       'Release_Month', 'Release_Year', 'Profit', 'Log_Box_office_crores',\n",
       "       'Log_Budget_crores', 'Budget_crores_bins', 'Release_Year_bins',\n",
       "       'Profict_pct', 'Profict_pct_bins', 'Lead_Actor1_Bins',\n",
       "       'Lead_Actor2_Bins', 'Lead_Actor3_Bins', 'Genre1_Bins', 'Genre2_Bins',\n",
       "       'Genre3_Bins', 'Director_Bins', 'Producer_Bins'],\n",
       "      dtype='object')"
      ]
     },
     "execution_count": 66,
     "metadata": {},
     "output_type": "execute_result"
    }
   ],
   "source": [
    "Movie_df1.columns"
   ]
  },
  {
   "cell_type": "code",
   "execution_count": 67,
   "metadata": {},
   "outputs": [],
   "source": [
    "Movie_df2 = Movie_df1[['Log_Budget_crores','Certificate','Run_time_mins','Director_Bins','Lead_Actor1_Bins','Lead_Actor2_Bins','Lead_Actor3_Bins',\n",
    "               'Genre1','Genre2','Release_Month','Profict_pct_bins']]\n",
    "\n",
    "#'Genre1_Bins', 'Genre2_Bins', 'Genre3_Bins'"
   ]
  },
  {
   "cell_type": "code",
   "execution_count": 68,
   "metadata": {},
   "outputs": [],
   "source": [
    "Movie_df2 = pd.get_dummies(Movie_df2, columns =['Log_Budget_crores','Certificate','Director_Bins','Lead_Actor1_Bins', 'Lead_Actor2_Bins', 'Lead_Actor3_Bins','Genre1','Genre2','Release_Month'])"
   ]
  },
  {
   "cell_type": "code",
   "execution_count": 69,
   "metadata": {
    "scrolled": true
   },
   "outputs": [
    {
     "data": {
      "text/html": [
       "<div>\n",
       "<style scoped>\n",
       "    .dataframe tbody tr th:only-of-type {\n",
       "        vertical-align: middle;\n",
       "    }\n",
       "\n",
       "    .dataframe tbody tr th {\n",
       "        vertical-align: top;\n",
       "    }\n",
       "\n",
       "    .dataframe thead th {\n",
       "        text-align: right;\n",
       "    }\n",
       "</style>\n",
       "<table border=\"1\" class=\"dataframe\">\n",
       "  <thead>\n",
       "    <tr style=\"text-align: right;\">\n",
       "      <th></th>\n",
       "      <th>Run_time_mins</th>\n",
       "      <th>Profict_pct_bins</th>\n",
       "      <th>Log_Budget_crores_1.0986122886681098</th>\n",
       "      <th>Log_Budget_crores_1.3862943611198906</th>\n",
       "      <th>Log_Budget_crores_1.6094379124341003</th>\n",
       "      <th>Log_Budget_crores_1.791759469228055</th>\n",
       "      <th>Log_Budget_crores_1.9459101490553132</th>\n",
       "      <th>Log_Budget_crores_2.0794415416798357</th>\n",
       "      <th>Log_Budget_crores_2.1972245773362196</th>\n",
       "      <th>Log_Budget_crores_2.302585092994046</th>\n",
       "      <th>...</th>\n",
       "      <th>Release_Month_Dec</th>\n",
       "      <th>Release_Month_Feb</th>\n",
       "      <th>Release_Month_Jan</th>\n",
       "      <th>Release_Month_Jul</th>\n",
       "      <th>Release_Month_Jun</th>\n",
       "      <th>Release_Month_Mar</th>\n",
       "      <th>Release_Month_May</th>\n",
       "      <th>Release_Month_Nov</th>\n",
       "      <th>Release_Month_Oct</th>\n",
       "      <th>Release_Month_Sep</th>\n",
       "    </tr>\n",
       "  </thead>\n",
       "  <tbody>\n",
       "    <tr>\n",
       "      <th>0</th>\n",
       "      <td>161</td>\n",
       "      <td>1</td>\n",
       "      <td>0</td>\n",
       "      <td>0</td>\n",
       "      <td>0</td>\n",
       "      <td>0</td>\n",
       "      <td>0</td>\n",
       "      <td>0</td>\n",
       "      <td>0</td>\n",
       "      <td>0</td>\n",
       "      <td>...</td>\n",
       "      <td>0</td>\n",
       "      <td>0</td>\n",
       "      <td>0</td>\n",
       "      <td>0</td>\n",
       "      <td>0</td>\n",
       "      <td>0</td>\n",
       "      <td>0</td>\n",
       "      <td>0</td>\n",
       "      <td>0</td>\n",
       "      <td>0</td>\n",
       "    </tr>\n",
       "    <tr>\n",
       "      <th>1</th>\n",
       "      <td>171</td>\n",
       "      <td>1</td>\n",
       "      <td>0</td>\n",
       "      <td>0</td>\n",
       "      <td>0</td>\n",
       "      <td>0</td>\n",
       "      <td>0</td>\n",
       "      <td>0</td>\n",
       "      <td>0</td>\n",
       "      <td>0</td>\n",
       "      <td>...</td>\n",
       "      <td>1</td>\n",
       "      <td>0</td>\n",
       "      <td>0</td>\n",
       "      <td>0</td>\n",
       "      <td>0</td>\n",
       "      <td>0</td>\n",
       "      <td>0</td>\n",
       "      <td>0</td>\n",
       "      <td>0</td>\n",
       "      <td>0</td>\n",
       "    </tr>\n",
       "    <tr>\n",
       "      <th>2</th>\n",
       "      <td>143</td>\n",
       "      <td>0</td>\n",
       "      <td>0</td>\n",
       "      <td>0</td>\n",
       "      <td>1</td>\n",
       "      <td>0</td>\n",
       "      <td>0</td>\n",
       "      <td>0</td>\n",
       "      <td>0</td>\n",
       "      <td>0</td>\n",
       "      <td>...</td>\n",
       "      <td>0</td>\n",
       "      <td>1</td>\n",
       "      <td>0</td>\n",
       "      <td>0</td>\n",
       "      <td>0</td>\n",
       "      <td>0</td>\n",
       "      <td>0</td>\n",
       "      <td>0</td>\n",
       "      <td>0</td>\n",
       "      <td>0</td>\n",
       "    </tr>\n",
       "    <tr>\n",
       "      <th>3</th>\n",
       "      <td>139</td>\n",
       "      <td>1</td>\n",
       "      <td>0</td>\n",
       "      <td>0</td>\n",
       "      <td>0</td>\n",
       "      <td>0</td>\n",
       "      <td>0</td>\n",
       "      <td>0</td>\n",
       "      <td>0</td>\n",
       "      <td>0</td>\n",
       "      <td>...</td>\n",
       "      <td>0</td>\n",
       "      <td>0</td>\n",
       "      <td>0</td>\n",
       "      <td>0</td>\n",
       "      <td>0</td>\n",
       "      <td>0</td>\n",
       "      <td>0</td>\n",
       "      <td>0</td>\n",
       "      <td>1</td>\n",
       "      <td>0</td>\n",
       "    </tr>\n",
       "    <tr>\n",
       "      <th>4</th>\n",
       "      <td>171</td>\n",
       "      <td>1</td>\n",
       "      <td>0</td>\n",
       "      <td>0</td>\n",
       "      <td>0</td>\n",
       "      <td>0</td>\n",
       "      <td>0</td>\n",
       "      <td>0</td>\n",
       "      <td>0</td>\n",
       "      <td>0</td>\n",
       "      <td>...</td>\n",
       "      <td>0</td>\n",
       "      <td>0</td>\n",
       "      <td>1</td>\n",
       "      <td>0</td>\n",
       "      <td>0</td>\n",
       "      <td>0</td>\n",
       "      <td>0</td>\n",
       "      <td>0</td>\n",
       "      <td>0</td>\n",
       "      <td>0</td>\n",
       "    </tr>\n",
       "  </tbody>\n",
       "</table>\n",
       "<p>5 rows × 201 columns</p>\n",
       "</div>"
      ],
      "text/plain": [
       "   Run_time_mins Profict_pct_bins  Log_Budget_crores_1.0986122886681098  \\\n",
       "0            161                1                                     0   \n",
       "1            171                1                                     0   \n",
       "2            143                0                                     0   \n",
       "3            139                1                                     0   \n",
       "4            171                1                                     0   \n",
       "\n",
       "   Log_Budget_crores_1.3862943611198906  Log_Budget_crores_1.6094379124341003  \\\n",
       "0                                     0                                     0   \n",
       "1                                     0                                     0   \n",
       "2                                     0                                     1   \n",
       "3                                     0                                     0   \n",
       "4                                     0                                     0   \n",
       "\n",
       "   Log_Budget_crores_1.791759469228055  Log_Budget_crores_1.9459101490553132  \\\n",
       "0                                    0                                     0   \n",
       "1                                    0                                     0   \n",
       "2                                    0                                     0   \n",
       "3                                    0                                     0   \n",
       "4                                    0                                     0   \n",
       "\n",
       "   Log_Budget_crores_2.0794415416798357  Log_Budget_crores_2.1972245773362196  \\\n",
       "0                                     0                                     0   \n",
       "1                                     0                                     0   \n",
       "2                                     0                                     0   \n",
       "3                                     0                                     0   \n",
       "4                                     0                                     0   \n",
       "\n",
       "   Log_Budget_crores_2.302585092994046        ...          Release_Month_Dec  \\\n",
       "0                                    0        ...                          0   \n",
       "1                                    0        ...                          1   \n",
       "2                                    0        ...                          0   \n",
       "3                                    0        ...                          0   \n",
       "4                                    0        ...                          0   \n",
       "\n",
       "   Release_Month_Feb  Release_Month_Jan  Release_Month_Jul  Release_Month_Jun  \\\n",
       "0                  0                  0                  0                  0   \n",
       "1                  0                  0                  0                  0   \n",
       "2                  1                  0                  0                  0   \n",
       "3                  0                  0                  0                  0   \n",
       "4                  0                  1                  0                  0   \n",
       "\n",
       "   Release_Month_Mar  Release_Month_May  Release_Month_Nov  Release_Month_Oct  \\\n",
       "0                  0                  0                  0                  0   \n",
       "1                  0                  0                  0                  0   \n",
       "2                  0                  0                  0                  0   \n",
       "3                  0                  0                  0                  1   \n",
       "4                  0                  0                  0                  0   \n",
       "\n",
       "   Release_Month_Sep  \n",
       "0                  0  \n",
       "1                  0  \n",
       "2                  0  \n",
       "3                  0  \n",
       "4                  0  \n",
       "\n",
       "[5 rows x 201 columns]"
      ]
     },
     "execution_count": 69,
     "metadata": {},
     "output_type": "execute_result"
    }
   ],
   "source": [
    "Movie_df2.head()"
   ]
  },
  {
   "cell_type": "markdown",
   "metadata": {},
   "source": [
    "### 4.1. Logistic Regression Model"
   ]
  },
  {
   "cell_type": "code",
   "execution_count": 70,
   "metadata": {},
   "outputs": [],
   "source": [
    "from sklearn.model_selection import train_test_split\n",
    "from sklearn.linear_model import LogisticRegression\n",
    "from sklearn import metrics\n",
    "from sklearn.metrics import confusion_matrix"
   ]
  },
  {
   "cell_type": "code",
   "execution_count": 71,
   "metadata": {},
   "outputs": [
    {
     "name": "stdout",
     "output_type": "stream",
     "text": [
      "(504, 200)\n",
      "(168, 200)\n"
     ]
    }
   ],
   "source": [
    "x = Movie_df2.drop(columns=['Profict_pct_bins'])\n",
    "y = Movie_df2['Profict_pct_bins']\n",
    "X_train,X_test,y_train,y_test= train_test_split( x, y, test_size = 0.25, random_state = 1) \n",
    "print(X_train.shape)\n",
    "print(X_test.shape)\n"
   ]
  },
  {
   "cell_type": "code",
   "execution_count": 72,
   "metadata": {},
   "outputs": [],
   "source": [
    "logistic_regression= LogisticRegression()\n",
    "logistic_regression.fit(X_train,y_train)\n",
    "y_pred=logistic_regression.predict(X_test)\n",
    "x_pred=logistic_regression.predict(X_train)\n"
   ]
  },
  {
   "cell_type": "code",
   "execution_count": 73,
   "metadata": {},
   "outputs": [
    {
     "name": "stdout",
     "output_type": "stream",
     "text": [
      "[[291  23]\n",
      " [ 64 126]]\n"
     ]
    }
   ],
   "source": [
    "#Train Confusion Matrix\n",
    "cnf_matrix = confusion_matrix(y_train, x_pred)\n",
    "print(cnf_matrix)"
   ]
  },
  {
   "cell_type": "code",
   "execution_count": 74,
   "metadata": {},
   "outputs": [
    {
     "name": "stdout",
     "output_type": "stream",
     "text": [
      "[[81 17]\n",
      " [35 35]]\n"
     ]
    }
   ],
   "source": [
    "#Test Confusion Matrix\n",
    "cnf_matrix = confusion_matrix(y_test, y_pred)\n",
    "print(cnf_matrix)"
   ]
  },
  {
   "cell_type": "code",
   "execution_count": 75,
   "metadata": {},
   "outputs": [
    {
     "name": "stdout",
     "output_type": "stream",
     "text": [
      "Train Accuracy: 0.8273809523809523\n",
      "Test Accuracy: 0.6904761904761905\n"
     ]
    }
   ],
   "source": [
    "# Accuracy on test data set\n",
    "print(\"Train Accuracy:\",metrics.accuracy_score(y_train, x_pred))\n",
    "print(\"Test Accuracy:\",metrics.accuracy_score(y_test, y_pred))"
   ]
  },
  {
   "cell_type": "code",
   "execution_count": 76,
   "metadata": {},
   "outputs": [
    {
     "name": "stdout",
     "output_type": "stream",
     "text": [
      "             precision    recall  f1-score   support\n",
      "\n",
      "          0       0.70      0.83      0.76        98\n",
      "          1       0.67      0.50      0.57        70\n",
      "\n",
      "avg / total       0.69      0.69      0.68       168\n",
      "\n"
     ]
    }
   ],
   "source": [
    "from sklearn.metrics import classification_report\n",
    "print(classification_report(y_test, y_pred))"
   ]
  },
  {
   "cell_type": "markdown",
   "metadata": {},
   "source": [
    "***Logistic regression model is giving the train accuracy of around 82% and test accuracy of around 70%***"
   ]
  },
  {
   "cell_type": "markdown",
   "metadata": {},
   "source": [
    "### 4.2. Decision Tree Model"
   ]
  },
  {
   "cell_type": "code",
   "execution_count": 77,
   "metadata": {},
   "outputs": [],
   "source": [
    "import pandas as pd\n",
    "from sklearn.tree import DecisionTreeClassifier # Import Decision Tree Classifier\n",
    "from sklearn.model_selection import train_test_split # Import train_test_split function\n",
    "from sklearn import metrics #Import scikit-learn metrics module for accuracy calculation"
   ]
  },
  {
   "cell_type": "code",
   "execution_count": 78,
   "metadata": {},
   "outputs": [],
   "source": [
    "# Create Decision Tree classifer object\n",
    "clf = DecisionTreeClassifier(criterion=\"gini\", max_depth=3)\n",
    "\n",
    "# Train Decision Tree Classifer\n",
    "clf = clf.fit(X_train,y_train)\n",
    "\n",
    "#Predict the response for test dataset\n",
    "y_pred = clf.predict(X_test)"
   ]
  },
  {
   "cell_type": "code",
   "execution_count": 79,
   "metadata": {},
   "outputs": [
    {
     "name": "stdout",
     "output_type": "stream",
     "text": [
      "Train Accuracy: 0.8273809523809523\n",
      "Test Accuracy: 0.6964285714285714\n"
     ]
    }
   ],
   "source": [
    "print(\"Train Accuracy:\",metrics.accuracy_score(y_train, x_pred))\n",
    "print(\"Test Accuracy:\",metrics.accuracy_score(y_test, y_pred))"
   ]
  },
  {
   "cell_type": "markdown",
   "metadata": {},
   "source": [
    "### 4.3 Naive Bayes Model"
   ]
  },
  {
   "cell_type": "code",
   "execution_count": 81,
   "metadata": {},
   "outputs": [
    {
     "name": "stdout",
     "output_type": "stream",
     "text": [
      "accuracy_score on train dataset :  0.5198412698412699\n",
      "accuracy_score on test dataset :  0.49404761904761907\n"
     ]
    }
   ],
   "source": [
    "#Import Gaussian Naive Bayes model\n",
    "from sklearn.naive_bayes import GaussianNB\n",
    "\n",
    "#Create a Gaussian Classifier\n",
    "model = GaussianNB()\n",
    "\n",
    "# Train the model using the training sets\n",
    "model.fit(X_train,y_train)\n",
    "\n",
    "# predict the target on the train dataset\n",
    "predict_train = model.predict(X_train)\n",
    "#print('Target on train data',predict_train) \n",
    "\n",
    "# Accuray Score on train dataset\n",
    "accuracy_train = metrics.accuracy_score(y_train,predict_train)\n",
    "print('accuracy_score on train dataset : ', accuracy_train)\n",
    "\n",
    "# predict the target on the test dataset\n",
    "predict_test = model.predict(X_test)\n",
    "\n",
    "# Accuracy Score on test dataset\n",
    "accuracy_test = metrics.accuracy_score(y_test,predict_test)\n",
    "print('accuracy_score on test dataset : ', accuracy_test)"
   ]
  },
  {
   "cell_type": "markdown",
   "metadata": {},
   "source": [
    "### 4.5 Random forest"
   ]
  },
  {
   "cell_type": "code",
   "execution_count": 82,
   "metadata": {},
   "outputs": [
    {
     "name": "stderr",
     "output_type": "stream",
     "text": [
      "C:\\ProgramData\\Anaconda3\\lib\\site-packages\\sklearn\\ensemble\\weight_boosting.py:29: DeprecationWarning: numpy.core.umath_tests is an internal NumPy module and should not be imported. It will be removed in a future NumPy release.\n",
      "  from numpy.core.umath_tests import inner1d\n"
     ]
    }
   ],
   "source": [
    "# Fitting Random Forest Regression to the dataset \n",
    "# import the regressor \n",
    "from sklearn.ensemble import RandomForestClassifier \n",
    "  \n",
    " # create regressor object \n",
    "clf = RandomForestClassifier(n_estimators = 100,random_state =50,  max_features = \"auto\") \n",
    "  \n",
    "# fit the regressor with x and y data \n",
    "clf.fit(X_train, y_train)\n",
    "y_pred=clf.predict(X_test)"
   ]
  },
  {
   "cell_type": "code",
   "execution_count": 83,
   "metadata": {},
   "outputs": [
    {
     "name": "stdout",
     "output_type": "stream",
     "text": [
      "Train Accuracy: 0.8273809523809523\n",
      "Test Accuracy: 0.7023809523809523\n"
     ]
    }
   ],
   "source": [
    "print(\"Train Accuracy:\",metrics.accuracy_score(y_train, x_pred))\n",
    "print(\"Test Accuracy:\",metrics.accuracy_score(y_test, y_pred))"
   ]
  },
  {
   "cell_type": "code",
   "execution_count": 84,
   "metadata": {},
   "outputs": [
    {
     "name": "stdout",
     "output_type": "stream",
     "text": [
      "[[86 12]\n",
      " [38 32]]\n"
     ]
    }
   ],
   "source": [
    "# Test confusion matrix\n",
    "print(confusion_matrix(y_test, y_pred))\n"
   ]
  },
  {
   "cell_type": "code",
   "execution_count": 85,
   "metadata": {},
   "outputs": [
    {
     "data": {
      "text/plain": [
       "Run_time_mins           0.097228\n",
       "Lead_Actor3_Bins_Bad    0.036192\n",
       "Director_Bins_Bad       0.035253\n",
       "Genre1_Comedy           0.022971\n",
       "Lead_Actor1_Bins_Bad    0.022445\n",
       "Lead_Actor3_Bins_Avg    0.021755\n",
       "Genre1_Action           0.021456\n",
       "Director_Bins_Good      0.021231\n",
       "Lead_Actor1_Bins_Avg    0.019701\n",
       "Lead_Actor2_Bins_Avg    0.019306\n",
       "dtype: float64"
      ]
     },
     "execution_count": 85,
     "metadata": {},
     "output_type": "execute_result"
    }
   ],
   "source": [
    "feature_imp = pd.Series(clf.feature_importances_, index = X_train.columns.tolist()).sort_values(ascending = False) \n",
    "feature_imp.head(10)"
   ]
  },
  {
   "cell_type": "markdown",
   "metadata": {},
   "source": [
    "## 5. Results highlights"
   ]
  },
  {
   "cell_type": "markdown",
   "metadata": {},
   "source": [
    "1. All the models (except Naive bayes) are predicting test accuracy in the similar range of 70%. <br>\n",
    "     <br>\n",
    "2. Producers bins and Genre3 are not helping in improving the accuracy of the model, therefore not used them in final model <br>\n",
    "     <br>\n",
    "3. From Random forest model variable importance; Run time, Lead actor and director are coming as high on importance <br>\n",
    "     <br>\n",
    "4. Handling the Large categories of actors, directors and producers was challening task. I have small dataset records as well (~650). Therefore had to convert them into sub categories. <br>\n",
    "     <br>\n",
    "5. Logistic regression model is giving the decent fit in comparison with other decision tree and random forest, therefore we can use Logisic model for predicting the success of the movie.\n",
    "   \n",
    "   "
   ]
  },
  {
   "cell_type": "markdown",
   "metadata": {},
   "source": [
    "## Thank You"
   ]
  }
 ],
 "metadata": {
  "kernelspec": {
   "display_name": "Python 3",
   "language": "python",
   "name": "python3"
  },
  "language_info": {
   "codemirror_mode": {
    "name": "ipython",
    "version": 3
   },
   "file_extension": ".py",
   "mimetype": "text/x-python",
   "name": "python",
   "nbconvert_exporter": "python",
   "pygments_lexer": "ipython3",
   "version": "3.7.0"
  }
 },
 "nbformat": 4,
 "nbformat_minor": 2
}
